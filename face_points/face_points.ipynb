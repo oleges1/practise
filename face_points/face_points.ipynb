{
  "nbformat": 4,
  "nbformat_minor": 0,
  "metadata": {
    "colab": {
      "name": "face_points.ipynb",
      "version": "0.3.2",
      "provenance": [],
      "collapsed_sections": [],
      "include_colab_link": true
    },
    "kernelspec": {
      "name": "python3",
      "display_name": "Python 3"
    },
    "accelerator": "GPU"
  },
  "cells": [
    {
      "cell_type": "markdown",
      "metadata": {
        "id": "view-in-github",
        "colab_type": "text"
      },
      "source": [
        "[View in Colaboratory](https://colab.research.google.com/github/oleges1/practise/blob/master/face_points/face_points.ipynb)"
      ]
    },
    {
      "metadata": {
        "id": "7uTnOT5NDHKG",
        "colab_type": "text"
      },
      "cell_type": "markdown",
      "source": [
        "## Prepare gdrive!"
      ]
    },
    {
      "metadata": {
        "id": "0J3juJzECQvY",
        "colab_type": "code",
        "colab": {
          "base_uri": "https://localhost:8080/",
          "height": 2434
        },
        "outputId": "f47f9763-c70f-44ea-a86b-6ab81a035e0d"
      },
      "cell_type": "code",
      "source": [
        "# Install a Drive FUSE wrapper.\n",
        "# https://github.com/astrada/google-drive-ocamlfuse\n",
        "!apt-get update -qq 2>&1 > /dev/null\n",
        "!apt-get install -y -qq software-properties-common python-software-properties module-init-tools\n",
        "!add-apt-repository -y ppa:alessandro-strada/ppa 2>&1 > /dev/null\n",
        "!apt-get update -qq 2>&1 > /dev/null\n",
        "!apt-get -y install -qq google-drive-ocamlfuse fuse\n",
        "\n",
        "# Generate auth tokens for Colab\n",
        "from google.colab import auth\n",
        "auth.authenticate_user()\n",
        "\n",
        "# Generate creds for the Drive FUSE library.\n",
        "from oauth2client.client import GoogleCredentials\n",
        "creds = GoogleCredentials.get_application_default()\n",
        "import getpass\n",
        "# Work around misordering of STREAM and STDIN in Jupyter.\n",
        "# https://github.com/jupyter/notebook/issues/3159\n",
        "prompt = !google-drive-ocamlfuse -headless -id={creds.client_id} -secret={creds.client_secret} < /dev/null 2>&1 | grep URL\n",
        "vcode = getpass.getpass(prompt[0] + '\\n\\nEnter verification code: ')\n",
        "!echo {vcode} | google-drive-ocamlfuse -headless -id={creds.client_id} -secret={creds.client_secret}\n",
        "\n",
        "!mkdir -p drive\n",
        "!google-drive-ocamlfuse drive"
      ],
      "execution_count": 1,
      "outputs": [
        {
          "output_type": "stream",
          "text": [
            "Preconfiguring packages ...\n",
            "Selecting previously unselected package cron.\n",
            "(Reading database ... 18408 files and directories currently installed.)\n",
            "Preparing to unpack .../00-cron_3.0pl1-128ubuntu5_amd64.deb ...\n",
            "Unpacking cron (3.0pl1-128ubuntu5) ...\n",
            "Selecting previously unselected package libapparmor1:amd64.\n",
            "Preparing to unpack .../01-libapparmor1_2.11.0-2ubuntu17.1_amd64.deb ...\n",
            "Unpacking libapparmor1:amd64 (2.11.0-2ubuntu17.1) ...\n",
            "Selecting previously unselected package libdbus-1-3:amd64.\n",
            "Preparing to unpack .../02-libdbus-1-3_1.10.22-1ubuntu1_amd64.deb ...\n",
            "Unpacking libdbus-1-3:amd64 (1.10.22-1ubuntu1) ...\n",
            "Selecting previously unselected package dbus.\n",
            "Preparing to unpack .../03-dbus_1.10.22-1ubuntu1_amd64.deb ...\n",
            "Unpacking dbus (1.10.22-1ubuntu1) ...\n",
            "Selecting previously unselected package dirmngr.\n",
            "Preparing to unpack .../04-dirmngr_2.1.15-1ubuntu8.1_amd64.deb ...\n",
            "Unpacking dirmngr (2.1.15-1ubuntu8.1) ...\n",
            "Selecting previously unselected package distro-info-data.\n",
            "Preparing to unpack .../05-distro-info-data_0.36ubuntu0.2_all.deb ...\n",
            "Unpacking distro-info-data (0.36ubuntu0.2) ...\n",
            "Selecting previously unselected package libkmod2:amd64.\n",
            "Preparing to unpack .../06-libkmod2_24-1ubuntu2_amd64.deb ...\n",
            "Unpacking libkmod2:amd64 (24-1ubuntu2) ...\n",
            "Selecting previously unselected package kmod.\n",
            "Preparing to unpack .../07-kmod_24-1ubuntu2_amd64.deb ...\n",
            "Unpacking kmod (24-1ubuntu2) ...\n",
            "Selecting previously unselected package lsb-release.\n",
            "Preparing to unpack .../08-lsb-release_9.20160110ubuntu5_all.deb ...\n",
            "Unpacking lsb-release (9.20160110ubuntu5) ...\n",
            "Selecting previously unselected package libgirepository-1.0-1:amd64.\n",
            "Preparing to unpack .../09-libgirepository-1.0-1_1.54.1-1_amd64.deb ...\n",
            "Unpacking libgirepository-1.0-1:amd64 (1.54.1-1) ...\n",
            "Selecting previously unselected package gir1.2-glib-2.0:amd64.\n",
            "Preparing to unpack .../10-gir1.2-glib-2.0_1.54.1-1_amd64.deb ...\n",
            "Unpacking gir1.2-glib-2.0:amd64 (1.54.1-1) ...\n",
            "Selecting previously unselected package iso-codes.\n",
            "Preparing to unpack .../11-iso-codes_3.75-1_all.deb ...\n",
            "Unpacking iso-codes (3.75-1) ...\n",
            "Selecting previously unselected package libdbus-glib-1-2:amd64.\n",
            "Preparing to unpack .../12-libdbus-glib-1-2_0.108-2_amd64.deb ...\n",
            "Unpacking libdbus-glib-1-2:amd64 (0.108-2) ...\n",
            "Selecting previously unselected package python-apt-common.\n",
            "Preparing to unpack .../13-python-apt-common_1.4.0~beta3build2_all.deb ...\n",
            "Unpacking python-apt-common (1.4.0~beta3build2) ...\n",
            "Selecting previously unselected package python3-apt.\n",
            "Preparing to unpack .../14-python3-apt_1.4.0~beta3build2_amd64.deb ...\n",
            "Unpacking python3-apt (1.4.0~beta3build2) ...\n",
            "Selecting previously unselected package python3-dbus.\n",
            "Preparing to unpack .../15-python3-dbus_1.2.4-1build3_amd64.deb ...\n",
            "Unpacking python3-dbus (1.2.4-1build3) ...\n",
            "Selecting previously unselected package python3-gi.\n",
            "Preparing to unpack .../16-python3-gi_3.24.1-2build1_amd64.deb ...\n",
            "Unpacking python3-gi (3.24.1-2build1) ...\n",
            "Selecting previously unselected package module-init-tools.\n",
            "Preparing to unpack .../17-module-init-tools_24-1ubuntu2_all.deb ...\n",
            "Unpacking module-init-tools (24-1ubuntu2) ...\n",
            "Selecting previously unselected package python-apt.\n",
            "Preparing to unpack .../18-python-apt_1.4.0~beta3build2_amd64.deb ...\n",
            "Unpacking python-apt (1.4.0~beta3build2) ...\n",
            "Selecting previously unselected package python-pycurl.\n",
            "Preparing to unpack .../19-python-pycurl_7.43.0-2build2_amd64.deb ...\n",
            "Unpacking python-pycurl (7.43.0-2build2) ...\n",
            "Selecting previously unselected package python-software-properties.\n",
            "Preparing to unpack .../20-python-software-properties_0.96.24.17_all.deb ...\n",
            "Unpacking python-software-properties (0.96.24.17) ...\n",
            "Selecting previously unselected package python3-software-properties.\n",
            "Preparing to unpack .../21-python3-software-properties_0.96.24.17_all.deb ...\n",
            "Unpacking python3-software-properties (0.96.24.17) ...\n",
            "Selecting previously unselected package software-properties-common.\n",
            "Preparing to unpack .../22-software-properties-common_0.96.24.17_all.deb ...\n",
            "Unpacking software-properties-common (0.96.24.17) ...\n",
            "Selecting previously unselected package unattended-upgrades.\n",
            "Preparing to unpack .../23-unattended-upgrades_0.98ubuntu1.1_all.deb ...\n",
            "Unpacking unattended-upgrades (0.98ubuntu1.1) ...\n",
            "Setting up python-apt-common (1.4.0~beta3build2) ...\n",
            "Setting up python3-apt (1.4.0~beta3build2) ...\n",
            "Setting up iso-codes (3.75-1) ...\n",
            "Setting up distro-info-data (0.36ubuntu0.2) ...\n",
            "Setting up python-pycurl (7.43.0-2build2) ...\n",
            "Setting up lsb-release (9.20160110ubuntu5) ...\n",
            "Setting up libgirepository-1.0-1:amd64 (1.54.1-1) ...\n",
            "Setting up libkmod2:amd64 (24-1ubuntu2) ...\n",
            "Setting up gir1.2-glib-2.0:amd64 (1.54.1-1) ...\n",
            "Processing triggers for libc-bin (2.26-0ubuntu2.1) ...\n",
            "Setting up libapparmor1:amd64 (2.11.0-2ubuntu17.1) ...\n",
            "Setting up unattended-upgrades (0.98ubuntu1.1) ...\n",
            "\n",
            "Creating config file /etc/apt/apt.conf.d/20auto-upgrades with new version\n",
            "\n",
            "Creating config file /etc/apt/apt.conf.d/50unattended-upgrades with new version\n",
            "invoke-rc.d: could not determine current runlevel\n",
            "invoke-rc.d: policy-rc.d denied execution of start.\n",
            "Setting up dirmngr (2.1.15-1ubuntu8.1) ...\n",
            "Setting up cron (3.0pl1-128ubuntu5) ...\n",
            "Adding group `crontab' (GID 102) ...\n",
            "Done.\n",
            "update-rc.d: warning: start and stop actions are no longer supported; falling back to defaults\n",
            "update-rc.d: warning: stop runlevel arguments (1) do not match cron Default-Stop values (none)\n",
            "invoke-rc.d: could not determine current runlevel\n",
            "invoke-rc.d: policy-rc.d denied execution of start.\n",
            "Setting up libdbus-1-3:amd64 (1.10.22-1ubuntu1) ...\n",
            "Setting up kmod (24-1ubuntu2) ...\n",
            "Setting up libdbus-glib-1-2:amd64 (0.108-2) ...\n",
            "Setting up python3-gi (3.24.1-2build1) ...\n",
            "Setting up module-init-tools (24-1ubuntu2) ...\n",
            "Setting up python3-software-properties (0.96.24.17) ...\n",
            "Setting up dbus (1.10.22-1ubuntu1) ...\n",
            "Setting up python-apt (1.4.0~beta3build2) ...\n",
            "Setting up python3-dbus (1.2.4-1build3) ...\n",
            "Setting up python-software-properties (0.96.24.17) ...\n",
            "Setting up software-properties-common (0.96.24.17) ...\n",
            "Processing triggers for libc-bin (2.26-0ubuntu2.1) ...\n",
            "Processing triggers for dbus (1.10.22-1ubuntu1) ...\n",
            "gpg: keybox '/tmp/tmp_jrvz1qj/pubring.gpg' created\n",
            "gpg: /tmp/tmp_jrvz1qj/trustdb.gpg: trustdb created\n",
            "gpg: key AD5F235DF639B041: public key \"Launchpad PPA for Alessandro Strada\" imported\n",
            "gpg: Total number processed: 1\n",
            "gpg:               imported: 1\n",
            "Warning: apt-key output should not be parsed (stdout is not a terminal)\n",
            "Selecting previously unselected package libfuse2:amd64.\n",
            "(Reading database ... 19816 files and directories currently installed.)\n",
            "Preparing to unpack .../libfuse2_2.9.7-1ubuntu1_amd64.deb ...\n",
            "Unpacking libfuse2:amd64 (2.9.7-1ubuntu1) ...\n",
            "Selecting previously unselected package fuse.\n",
            "Preparing to unpack .../fuse_2.9.7-1ubuntu1_amd64.deb ...\n",
            "Unpacking fuse (2.9.7-1ubuntu1) ...\n",
            "Selecting previously unselected package google-drive-ocamlfuse.\n",
            "Preparing to unpack .../google-drive-ocamlfuse_0.6.21-0ubuntu2_amd64.deb ...\n",
            "Unpacking google-drive-ocamlfuse (0.6.21-0ubuntu2) ...\n",
            "Setting up libfuse2:amd64 (2.9.7-1ubuntu1) ...\n",
            "Processing triggers for libc-bin (2.26-0ubuntu2.1) ...\n",
            "Setting up fuse (2.9.7-1ubuntu1) ...\n",
            "Setting up google-drive-ocamlfuse (0.6.21-0ubuntu2) ...\n",
            "Please, open the following URL in a web browser: https://accounts.google.com/o/oauth2/auth?client_id=32555940559.apps.googleusercontent.com&redirect_uri=urn%3Aietf%3Awg%3Aoauth%3A2.0%3Aoob&scope=https%3A%2F%2Fwww.googleapis.com%2Fauth%2Fdrive&response_type=code&access_type=offline&approval_prompt=force\n",
            "\n",
            "Enter verification code: ··········\n",
            "Please, open the following URL in a web browser: https://accounts.google.com/o/oauth2/auth?client_id=32555940559.apps.googleusercontent.com&redirect_uri=urn%3Aietf%3Awg%3Aoauth%3A2.0%3Aoob&scope=https%3A%2F%2Fwww.googleapis.com%2Fauth%2Fdrive&response_type=code&access_type=offline&approval_prompt=force\n",
            "Please enter the verification code: Access token retrieved correctly.\n"
          ],
          "name": "stdout"
        }
      ]
    },
    {
      "metadata": {
        "id": "oj8RWSzDCbKr",
        "colab_type": "code",
        "colab": {
          "base_uri": "https://localhost:8080/",
          "height": 312
        },
        "outputId": "3ecca17d-86f9-4c90-c7a4-53af297ec36d"
      },
      "cell_type": "code",
      "source": [
        "!ls drive/"
      ],
      "execution_count": 1,
      "outputs": [
        {
          "output_type": "stream",
          "text": [
            "02042016\t\t   main_model.h5\r\n",
            "1\t\t\t   Oleg\r\n",
            "best.h5\t\t\t   papa_black4096.h5\r\n",
            "birds\t\t\t   papa_white1024.h5\r\n",
            "birds_model.hdf5\t   papa_white4096 (888e0004).h5\r\n",
            "black (1c554a75).renju\t   papa_white4096.h5\r\n",
            "black.renju\t\t   Renju\r\n",
            "Classroom\t\t   second.h5\r\n",
            "cloud\t\t\t   VARIANT_4.rtf.odt\r\n",
            "cnn_labs (3994be72).ipynb  white4096 (1b9f003e).h5\r\n",
            "cnn_labs (99aa7e01).ipynb  white4096.h5\r\n",
            "cnn_labs.ipynb\t\t   white.renju\r\n",
            "Colab Notebooks\t\t   Материалы\r\n",
            "Copy\t\t\t   Материалы старое\r\n",
            "face_points\t\t   Практика\r\n",
            "fasttext\t\t   Табличка\r\n",
            "main_model8.h5\t\t   Файлы и документы\r\n"
          ],
          "name": "stdout"
        }
      ]
    },
    {
      "metadata": {
        "id": "k6_ge63y-rI2",
        "colab_type": "code",
        "colab": {}
      },
      "cell_type": "code",
      "source": [
        ""
      ],
      "execution_count": 0,
      "outputs": []
    },
    {
      "metadata": {
        "id": "GAfEX5jR-okQ",
        "colab_type": "code",
        "colab": {}
      },
      "cell_type": "code",
      "source": [
        ""
      ],
      "execution_count": 0,
      "outputs": []
    },
    {
      "metadata": {
        "id": "ZSJpMZSvDrvW",
        "colab_type": "text"
      },
      "cell_type": "markdown",
      "source": [
        "## Load data"
      ]
    },
    {
      "metadata": {
        "id": "TdTeoWO0E3us",
        "colab_type": "code",
        "colab": {}
      },
      "cell_type": "code",
      "source": [
        "path_to_raw = 'drive/face_points/images'"
      ],
      "execution_count": 0,
      "outputs": []
    },
    {
      "metadata": {
        "id": "7KuOAFAIcJn2",
        "colab_type": "code",
        "colab": {}
      },
      "cell_type": "code",
      "source": [
        "path = 'drive/face_points'"
      ],
      "execution_count": 0,
      "outputs": []
    },
    {
      "metadata": {
        "id": "IEbtQDU4cPKO",
        "colab_type": "code",
        "colab": {}
      },
      "cell_type": "code",
      "source": [
        "path_to_gt = 'drive/face_points/gt.csv'"
      ],
      "execution_count": 0,
      "outputs": []
    },
    {
      "metadata": {
        "id": "3iMcrZg0kghT",
        "colab_type": "code",
        "colab": {}
      },
      "cell_type": "code",
      "source": [
        "import pandas as pd"
      ],
      "execution_count": 0,
      "outputs": []
    },
    {
      "metadata": {
        "id": "vsrCgd0zkldQ",
        "colab_type": "code",
        "colab": {
          "base_uri": "https://localhost:8080/",
          "height": 206
        },
        "outputId": "9a4faa1a-fd72-4807-addb-a7273aba145e"
      },
      "cell_type": "code",
      "source": [
        "shapes = pd.read_csv('drive/face_points/img_shapes.csv')\n",
        "shapes.sort_values(by = 'n_rows')[:5]"
      ],
      "execution_count": 6,
      "outputs": [
        {
          "output_type": "execute_result",
          "data": {
            "text/html": [
              "<div>\n",
              "<style scoped>\n",
              "    .dataframe tbody tr th:only-of-type {\n",
              "        vertical-align: middle;\n",
              "    }\n",
              "\n",
              "    .dataframe tbody tr th {\n",
              "        vertical-align: top;\n",
              "    }\n",
              "\n",
              "    .dataframe thead th {\n",
              "        text-align: right;\n",
              "    }\n",
              "</style>\n",
              "<table border=\"1\" class=\"dataframe\">\n",
              "  <thead>\n",
              "    <tr style=\"text-align: right;\">\n",
              "      <th></th>\n",
              "      <th>img_filename</th>\n",
              "      <th>n_rows</th>\n",
              "      <th>n_cols</th>\n",
              "    </tr>\n",
              "  </thead>\n",
              "  <tbody>\n",
              "    <tr>\n",
              "      <th>4330</th>\n",
              "      <td>04330.jpg</td>\n",
              "      <td>34</td>\n",
              "      <td>34</td>\n",
              "    </tr>\n",
              "    <tr>\n",
              "      <th>5964</th>\n",
              "      <td>05964.jpg</td>\n",
              "      <td>34</td>\n",
              "      <td>34</td>\n",
              "    </tr>\n",
              "    <tr>\n",
              "      <th>5808</th>\n",
              "      <td>05808.jpg</td>\n",
              "      <td>35</td>\n",
              "      <td>35</td>\n",
              "    </tr>\n",
              "    <tr>\n",
              "      <th>739</th>\n",
              "      <td>00739.jpg</td>\n",
              "      <td>35</td>\n",
              "      <td>35</td>\n",
              "    </tr>\n",
              "    <tr>\n",
              "      <th>2766</th>\n",
              "      <td>02766.jpg</td>\n",
              "      <td>36</td>\n",
              "      <td>36</td>\n",
              "    </tr>\n",
              "  </tbody>\n",
              "</table>\n",
              "</div>"
            ],
            "text/plain": [
              "     img_filename  n_rows  n_cols\n",
              "4330    04330.jpg      34      34\n",
              "5964    05964.jpg      34      34\n",
              "5808    05808.jpg      35      35\n",
              "739     00739.jpg      35      35\n",
              "2766    02766.jpg      36      36"
            ]
          },
          "metadata": {
            "tags": []
          },
          "execution_count": 6
        }
      ]
    },
    {
      "metadata": {
        "id": "eTQGguFU6k2d",
        "colab_type": "code",
        "colab": {
          "base_uri": "https://localhost:8080/",
          "height": 206
        },
        "outputId": "9a66364c-9810-4a4c-9fb1-97b9eded482b"
      },
      "cell_type": "code",
      "source": [
        "shapes[shapes['n_rows'] != shapes['n_cols']][:5]"
      ],
      "execution_count": 7,
      "outputs": [
        {
          "output_type": "execute_result",
          "data": {
            "text/html": [
              "<div>\n",
              "<style scoped>\n",
              "    .dataframe tbody tr th:only-of-type {\n",
              "        vertical-align: middle;\n",
              "    }\n",
              "\n",
              "    .dataframe tbody tr th {\n",
              "        vertical-align: top;\n",
              "    }\n",
              "\n",
              "    .dataframe thead th {\n",
              "        text-align: right;\n",
              "    }\n",
              "</style>\n",
              "<table border=\"1\" class=\"dataframe\">\n",
              "  <thead>\n",
              "    <tr style=\"text-align: right;\">\n",
              "      <th></th>\n",
              "      <th>img_filename</th>\n",
              "      <th>n_rows</th>\n",
              "      <th>n_cols</th>\n",
              "    </tr>\n",
              "  </thead>\n",
              "  <tbody>\n",
              "    <tr>\n",
              "      <th>19</th>\n",
              "      <td>00019.jpg</td>\n",
              "      <td>686</td>\n",
              "      <td>682</td>\n",
              "    </tr>\n",
              "    <tr>\n",
              "      <th>20</th>\n",
              "      <td>00020.jpg</td>\n",
              "      <td>314</td>\n",
              "      <td>358</td>\n",
              "    </tr>\n",
              "    <tr>\n",
              "      <th>36</th>\n",
              "      <td>00036.jpg</td>\n",
              "      <td>352</td>\n",
              "      <td>290</td>\n",
              "    </tr>\n",
              "    <tr>\n",
              "      <th>46</th>\n",
              "      <td>00046.jpg</td>\n",
              "      <td>298</td>\n",
              "      <td>311</td>\n",
              "    </tr>\n",
              "    <tr>\n",
              "      <th>61</th>\n",
              "      <td>00061.jpg</td>\n",
              "      <td>569</td>\n",
              "      <td>602</td>\n",
              "    </tr>\n",
              "  </tbody>\n",
              "</table>\n",
              "</div>"
            ],
            "text/plain": [
              "   img_filename  n_rows  n_cols\n",
              "19    00019.jpg     686     682\n",
              "20    00020.jpg     314     358\n",
              "36    00036.jpg     352     290\n",
              "46    00046.jpg     298     311\n",
              "61    00061.jpg     569     602"
            ]
          },
          "metadata": {
            "tags": []
          },
          "execution_count": 7
        }
      ]
    },
    {
      "metadata": {
        "id": "JZg28cDa6oDl",
        "colab_type": "code",
        "colab": {
          "base_uri": "https://localhost:8080/",
          "height": 206
        },
        "outputId": "9a2c8dcb-985f-4afd-cba1-4635740dd0da"
      },
      "cell_type": "code",
      "source": [
        "shapes = pd.read_csv('drive/face_points/img_shapes.csv')\n",
        "shapes.sort_values(by = 'n_rows')[:5]"
      ],
      "execution_count": 8,
      "outputs": [
        {
          "output_type": "execute_result",
          "data": {
            "text/html": [
              "<div>\n",
              "<style scoped>\n",
              "    .dataframe tbody tr th:only-of-type {\n",
              "        vertical-align: middle;\n",
              "    }\n",
              "\n",
              "    .dataframe tbody tr th {\n",
              "        vertical-align: top;\n",
              "    }\n",
              "\n",
              "    .dataframe thead th {\n",
              "        text-align: right;\n",
              "    }\n",
              "</style>\n",
              "<table border=\"1\" class=\"dataframe\">\n",
              "  <thead>\n",
              "    <tr style=\"text-align: right;\">\n",
              "      <th></th>\n",
              "      <th>img_filename</th>\n",
              "      <th>n_rows</th>\n",
              "      <th>n_cols</th>\n",
              "    </tr>\n",
              "  </thead>\n",
              "  <tbody>\n",
              "    <tr>\n",
              "      <th>4330</th>\n",
              "      <td>04330.jpg</td>\n",
              "      <td>34</td>\n",
              "      <td>34</td>\n",
              "    </tr>\n",
              "    <tr>\n",
              "      <th>5964</th>\n",
              "      <td>05964.jpg</td>\n",
              "      <td>34</td>\n",
              "      <td>34</td>\n",
              "    </tr>\n",
              "    <tr>\n",
              "      <th>5808</th>\n",
              "      <td>05808.jpg</td>\n",
              "      <td>35</td>\n",
              "      <td>35</td>\n",
              "    </tr>\n",
              "    <tr>\n",
              "      <th>739</th>\n",
              "      <td>00739.jpg</td>\n",
              "      <td>35</td>\n",
              "      <td>35</td>\n",
              "    </tr>\n",
              "    <tr>\n",
              "      <th>2766</th>\n",
              "      <td>02766.jpg</td>\n",
              "      <td>36</td>\n",
              "      <td>36</td>\n",
              "    </tr>\n",
              "  </tbody>\n",
              "</table>\n",
              "</div>"
            ],
            "text/plain": [
              "     img_filename  n_rows  n_cols\n",
              "4330    04330.jpg      34      34\n",
              "5964    05964.jpg      34      34\n",
              "5808    05808.jpg      35      35\n",
              "739     00739.jpg      35      35\n",
              "2766    02766.jpg      36      36"
            ]
          },
          "metadata": {
            "tags": []
          },
          "execution_count": 8
        }
      ]
    },
    {
      "metadata": {
        "id": "JRJTfih4k05A",
        "colab_type": "code",
        "colab": {
          "base_uri": "https://localhost:8080/",
          "height": 34
        },
        "outputId": "3b7e1c74-9c46-494d-cbca-e64d1e66d030"
      },
      "cell_type": "code",
      "source": [
        "len(shapes[shapes['n_rows'] < 100])"
      ],
      "execution_count": 9,
      "outputs": [
        {
          "output_type": "execute_result",
          "data": {
            "text/plain": [
              "1514"
            ]
          },
          "metadata": {
            "tags": []
          },
          "execution_count": 9
        }
      ]
    },
    {
      "metadata": {
        "id": "UPA59aNlliVH",
        "colab_type": "code",
        "colab": {
          "base_uri": "https://localhost:8080/",
          "height": 236
        },
        "outputId": "6401aae7-eb67-4396-88c1-df5a2d2c1b67"
      },
      "cell_type": "code",
      "source": [
        "labels = pd.read_csv(path_to_gt)\n",
        "labels.head(5)"
      ],
      "execution_count": 10,
      "outputs": [
        {
          "output_type": "execute_result",
          "data": {
            "text/html": [
              "<div>\n",
              "<style scoped>\n",
              "    .dataframe tbody tr th:only-of-type {\n",
              "        vertical-align: middle;\n",
              "    }\n",
              "\n",
              "    .dataframe tbody tr th {\n",
              "        vertical-align: top;\n",
              "    }\n",
              "\n",
              "    .dataframe thead th {\n",
              "        text-align: right;\n",
              "    }\n",
              "</style>\n",
              "<table border=\"1\" class=\"dataframe\">\n",
              "  <thead>\n",
              "    <tr style=\"text-align: right;\">\n",
              "      <th></th>\n",
              "      <th>filename</th>\n",
              "      <th>x1</th>\n",
              "      <th>y1</th>\n",
              "      <th>x2</th>\n",
              "      <th>y2</th>\n",
              "      <th>x3</th>\n",
              "      <th>y3</th>\n",
              "      <th>x4</th>\n",
              "      <th>y4</th>\n",
              "      <th>x5</th>\n",
              "      <th>...</th>\n",
              "      <th>x10</th>\n",
              "      <th>y10</th>\n",
              "      <th>x11</th>\n",
              "      <th>y11</th>\n",
              "      <th>x12</th>\n",
              "      <th>y12</th>\n",
              "      <th>x13</th>\n",
              "      <th>y13</th>\n",
              "      <th>x14</th>\n",
              "      <th>y14</th>\n",
              "    </tr>\n",
              "  </thead>\n",
              "  <tbody>\n",
              "    <tr>\n",
              "      <th>0</th>\n",
              "      <td>00000.jpg</td>\n",
              "      <td>51</td>\n",
              "      <td>51</td>\n",
              "      <td>127</td>\n",
              "      <td>60</td>\n",
              "      <td>169</td>\n",
              "      <td>65</td>\n",
              "      <td>203</td>\n",
              "      <td>52</td>\n",
              "      <td>68</td>\n",
              "      <td>...</td>\n",
              "      <td>193</td>\n",
              "      <td>84</td>\n",
              "      <td>156</td>\n",
              "      <td>144</td>\n",
              "      <td>92</td>\n",
              "      <td>174</td>\n",
              "      <td>140</td>\n",
              "      <td>180</td>\n",
              "      <td>168</td>\n",
              "      <td>179</td>\n",
              "    </tr>\n",
              "    <tr>\n",
              "      <th>1</th>\n",
              "      <td>00001.jpg</td>\n",
              "      <td>21</td>\n",
              "      <td>20</td>\n",
              "      <td>36</td>\n",
              "      <td>18</td>\n",
              "      <td>57</td>\n",
              "      <td>19</td>\n",
              "      <td>80</td>\n",
              "      <td>25</td>\n",
              "      <td>23</td>\n",
              "      <td>...</td>\n",
              "      <td>78</td>\n",
              "      <td>33</td>\n",
              "      <td>43</td>\n",
              "      <td>46</td>\n",
              "      <td>31</td>\n",
              "      <td>61</td>\n",
              "      <td>45</td>\n",
              "      <td>66</td>\n",
              "      <td>60</td>\n",
              "      <td>65</td>\n",
              "    </tr>\n",
              "    <tr>\n",
              "      <th>2</th>\n",
              "      <td>00002.jpg</td>\n",
              "      <td>23</td>\n",
              "      <td>116</td>\n",
              "      <td>39</td>\n",
              "      <td>83</td>\n",
              "      <td>47</td>\n",
              "      <td>57</td>\n",
              "      <td>56</td>\n",
              "      <td>19</td>\n",
              "      <td>36</td>\n",
              "      <td>...</td>\n",
              "      <td>62</td>\n",
              "      <td>31</td>\n",
              "      <td>91</td>\n",
              "      <td>86</td>\n",
              "      <td>106</td>\n",
              "      <td>122</td>\n",
              "      <td>115</td>\n",
              "      <td>100</td>\n",
              "      <td>121</td>\n",
              "      <td>81</td>\n",
              "    </tr>\n",
              "    <tr>\n",
              "      <th>3</th>\n",
              "      <td>00003.jpg</td>\n",
              "      <td>29</td>\n",
              "      <td>18</td>\n",
              "      <td>63</td>\n",
              "      <td>25</td>\n",
              "      <td>84</td>\n",
              "      <td>32</td>\n",
              "      <td>105</td>\n",
              "      <td>34</td>\n",
              "      <td>38</td>\n",
              "      <td>...</td>\n",
              "      <td>95</td>\n",
              "      <td>45</td>\n",
              "      <td>72</td>\n",
              "      <td>71</td>\n",
              "      <td>46</td>\n",
              "      <td>83</td>\n",
              "      <td>63</td>\n",
              "      <td>87</td>\n",
              "      <td>75</td>\n",
              "      <td>89</td>\n",
              "    </tr>\n",
              "    <tr>\n",
              "      <th>4</th>\n",
              "      <td>00004.jpg</td>\n",
              "      <td>31</td>\n",
              "      <td>53</td>\n",
              "      <td>76</td>\n",
              "      <td>44</td>\n",
              "      <td>107</td>\n",
              "      <td>38</td>\n",
              "      <td>136</td>\n",
              "      <td>33</td>\n",
              "      <td>40</td>\n",
              "      <td>...</td>\n",
              "      <td>129</td>\n",
              "      <td>49</td>\n",
              "      <td>111</td>\n",
              "      <td>105</td>\n",
              "      <td>72</td>\n",
              "      <td>137</td>\n",
              "      <td>106</td>\n",
              "      <td>132</td>\n",
              "      <td>126</td>\n",
              "      <td>121</td>\n",
              "    </tr>\n",
              "  </tbody>\n",
              "</table>\n",
              "<p>5 rows × 29 columns</p>\n",
              "</div>"
            ],
            "text/plain": [
              "    filename  x1   y1   x2  y2   x3  y3   x4  y4  x5 ...   x10  y10  x11  y11  \\\n",
              "0  00000.jpg  51   51  127  60  169  65  203  52  68 ...   193   84  156  144   \n",
              "1  00001.jpg  21   20   36  18   57  19   80  25  23 ...    78   33   43   46   \n",
              "2  00002.jpg  23  116   39  83   47  57   56  19  36 ...    62   31   91   86   \n",
              "3  00003.jpg  29   18   63  25   84  32  105  34  38 ...    95   45   72   71   \n",
              "4  00004.jpg  31   53   76  44  107  38  136  33  40 ...   129   49  111  105   \n",
              "\n",
              "   x12  y12  x13  y13  x14  y14  \n",
              "0   92  174  140  180  168  179  \n",
              "1   31   61   45   66   60   65  \n",
              "2  106  122  115  100  121   81  \n",
              "3   46   83   63   87   75   89  \n",
              "4   72  137  106  132  126  121  \n",
              "\n",
              "[5 rows x 29 columns]"
            ]
          },
          "metadata": {
            "tags": []
          },
          "execution_count": 10
        }
      ]
    },
    {
      "metadata": {
        "id": "2c00ZorVdjTW",
        "colab_type": "code",
        "colab": {
          "base_uri": "https://localhost:8080/",
          "height": 34
        },
        "outputId": "e43e262c-8c74-43b7-cf8f-da011e45a469"
      },
      "cell_type": "code",
      "source": [
        "!pip3 install tqdm"
      ],
      "execution_count": 11,
      "outputs": [
        {
          "output_type": "stream",
          "text": [
            "Requirement already satisfied: tqdm in /usr/local/lib/python3.6/dist-packages (4.25.0)\r\n"
          ],
          "name": "stdout"
        }
      ]
    },
    {
      "metadata": {
        "id": "H_kbcsSqdeoW",
        "colab_type": "code",
        "colab": {
          "base_uri": "https://localhost:8080/",
          "height": 34
        },
        "outputId": "9e3a0a5a-6b95-4c25-bac0-afa3798d8eab"
      },
      "cell_type": "code",
      "source": [
        "import os\n",
        "import numpy as np\n",
        "\n",
        "from keras.applications.inception_v3 import InceptionV3\n",
        "from keras.preprocessing.image import ImageDataGenerator, load_img\n",
        "from random import randint\n",
        "\n",
        "from keras.models import Model, load_model\n",
        "from keras.layers import Dense, GlobalAveragePooling2D, Activation, GlobalMaxPooling2D, Dropout, Conv2D, MaxPooling2D, Flatten, Reshape, BatchNormalization\n",
        "from keras import backend as K\n",
        "\n",
        "from keras.callbacks import LambdaCallback, ProgbarLogger\n",
        "\n",
        "from keras.optimizers import Adam\n",
        "\n",
        "from tqdm import tqdm_notebook, tqdm\n",
        "\n",
        "#from run_tests import read_csv, save_csv\n",
        "\n",
        "from skimage.transform import resize\n",
        "from random import randint"
      ],
      "execution_count": 12,
      "outputs": [
        {
          "output_type": "stream",
          "text": [
            "Using TensorFlow backend.\n"
          ],
          "name": "stderr"
        }
      ]
    },
    {
      "metadata": {
        "id": "epjOYBAqcmgG",
        "colab_type": "code",
        "colab": {}
      },
      "cell_type": "code",
      "source": [
        "def read_csv(filename):\n",
        "    res = {}\n",
        "    with open(filename) as fhandle:\n",
        "        next(fhandle)\n",
        "        for line in fhandle:\n",
        "            filename, class_id = line.rstrip('\\n').split(',')\n",
        "            res[filename] = int(class_id)\n",
        "    return res"
      ],
      "execution_count": 0,
      "outputs": []
    },
    {
      "metadata": {
        "id": "zCrEZ8P1cruz",
        "colab_type": "code",
        "colab": {}
      },
      "cell_type": "code",
      "source": [
        "# rewrite\n",
        "# think about data flipping or rotare, even with the labels\n",
        "\n",
        "class data_storage():\n",
        "  def __init__(self, path, path_to_gt, path_to_raw, shapes_path = 'drive/face_points/img_shapes.csv', size = 100):\n",
        "      self.path = path\n",
        "      self.path_to_gt = path_to_gt\n",
        "      self.labels = pd.read_csv(path_to_gt)\n",
        "      self.shapes = pd.read_csv(shapes_path)\n",
        "      self.size = size\n",
        "      \n",
        "      path_to_datas = [path + '/x.npy', path + '/y.npy']\n",
        "      try:\n",
        "          self.x = np.load(path_to_datas[0])\n",
        "          self.y = np.load(path_to_datas[1])\n",
        "      except:\n",
        "          self.x = np.zeros((len(self.labels), size, size, 3), dtype = np.float32)\n",
        "          self.y = np.zeros((len(self.labels), 28), dtype = np.float32)\n",
        "          for i, data in enumerate(tqdm(self.labels['filename'])):\n",
        "              image = np.array(load_img(path_to_raw + '/' +  data, target_size = (size, size)), dtype = np.float32)\n",
        "              image -= np.mean(image, keepdims=True)\n",
        "              image /= (np.std(image, keepdims=True) + 0.00001)\n",
        "              self.x[i] = image\n",
        "              self.y[i] = np.array(self.labels.iloc[i][1:])\n",
        "              for j in range(len(self.y[i])):\n",
        "                if j % 2 == 0:\n",
        "                  self.y[i][j] = self.y[i][j] * size / self.shapes.iloc[i]['n_rows']\n",
        "                else:\n",
        "                  self.y[i][j] = self.y[i][j] * size / self.shapes.iloc[i]['n_cols']\n",
        "          np.save(path_to_datas[0], self.x)\n",
        "          np.save(path_to_datas[1], self.y)\n",
        "          \n",
        "   \n",
        "  # better to use keras flow\n",
        "  def generator(self, fast_run = False):\n",
        "      x_batch = np.zeros((batch_size, self.size, self.size, 3), dtype = np.float32)\n",
        "      y_batch = np.zeros((batch_size, 50))\n",
        "      full_indx = np.arange(len(self.labels))\n",
        "      full_indx = np.random.shuffle(full_indx)\n",
        "      begin_batch = 0\n",
        "      while True:\n",
        "        if fast_run:\n",
        "            filename_idxs = np.random.choice(len(self.labels), batch_size)\n",
        "        else:\n",
        "            if begin_batch + batch_size < len(dataset):\n",
        "                filename_idxs = full_indx[begin_batch : begin_batch + batch_size]\n",
        "                begin_batch += batch_size\n",
        "            else:\n",
        "                filename_idxs = full_indx[begin_batch : len(dataset)]\n",
        "                begin_batch = (begin_batch + batch_size) % len(dataset)\n",
        "                filename_idxs += full_indx[0 : begin_batch]\n",
        "        filenames = [list(dataset.keys())[filename_idx] for filename_idx in filename_idxs]\n",
        "        \n",
        "        for i in range(batch_size):\n",
        "            image = self.x[filename_idxs[i]]\n",
        "            seed = randint(0, 3)\n",
        "            image = rotare(image, seed)\n",
        "            \n",
        "            x_batch[i] = image\n",
        "            y_batch[i] = 1\n",
        "        yield x_batch, y_batch"
      ],
      "execution_count": 0,
      "outputs": []
    },
    {
      "metadata": {
        "id": "QNdieFYuovGh",
        "colab_type": "code",
        "colab": {}
      },
      "cell_type": "code",
      "source": [
        "datas = data_storage(path, path_to_gt, path_to_raw)"
      ],
      "execution_count": 0,
      "outputs": []
    },
    {
      "metadata": {
        "id": "jhQ5wnXIyJcx",
        "colab_type": "code",
        "colab": {}
      },
      "cell_type": "code",
      "source": [
        "from keras.models import Model, Sequential\n",
        "from keras.optimizers import Nadam\n",
        "from keras.layers import BatchNormalization, Convolution2D, Input, merge, LeakyReLU, MaxPooling2D\n",
        "from keras.layers.core import Activation, Layer\n",
        "from keras.optimizers import SGD, Adam"
      ],
      "execution_count": 0,
      "outputs": []
    },
    {
      "metadata": {
        "id": "hFADzRZo2FwE",
        "colab_type": "code",
        "colab": {
          "base_uri": "https://localhost:8080/",
          "height": 5108
        },
        "outputId": "d0c133ff-ef90-4ae7-95af-7f9a6ead99d6"
      },
      "cell_type": "code",
      "source": [
        "def conv_block_3(feat_maps_out, prev):\n",
        "    prev = BatchNormalization()(prev)\n",
        "    prev = Conv2D(feat_maps_out, (3, 3), padding='same')(prev) \n",
        "    prev = LeakyReLU()(prev)\n",
        "    prev = BatchNormalization()(prev)\n",
        "    prev = Conv2D(feat_maps_out, (2, 2), padding='same')(prev) \n",
        "    prev = LeakyReLU()(prev)\n",
        "    return prev\n",
        "\n",
        "def skip_block(feat_maps_in, feat_maps_out, prev):\n",
        "    if feat_maps_in != feat_maps_out:\n",
        "        prev = Conv2D(feat_maps_out, (1, 1), padding='same')(prev)\n",
        "    return prev \n",
        "\n",
        "def Residual_3(feat_maps_in, feat_maps_out, prev_layer):\n",
        "    skip = skip_block(feat_maps_in, feat_maps_out, prev_layer)\n",
        "    conv = conv_block_3(feat_maps_out, prev_layer)\n",
        "    return merge([skip, conv], mode='sum')\n",
        "\n",
        "img_rows = 100 \n",
        "img_cols = 100 \n",
        "\n",
        "inp = Input((img_rows, img_cols, 3))\n",
        "cnv1 = Conv2D(32, (3, 3), padding='same')(inp)\n",
        "cnv1 = LeakyReLU()(cnv1)\n",
        "cnv1 = BatchNormalization()(cnv1)\n",
        "r1 = Residual_3(32, 32, cnv1)\n",
        "r1 = Dropout(0.1)(r1)\n",
        "r1 = Residual_3(32, 32, r1)\n",
        "r1 = Dropout(0.1)(r1)\n",
        "r1 = Residual_3(32, 32, r1)\n",
        "r1 = Dropout(0.1)(r1)\n",
        "pool1 = MaxPooling2D(pool_size = (2, 2))(r1)\n",
        "r2 = Residual_3(32, 32, pool1)\n",
        "r2 = Dropout(0.1)(r2)\n",
        "r2 = Residual_3(32, 32, r2)\n",
        "r2 = Dropout(0.1)(r2)\n",
        "r2 = Residual_3(32, 32, r2)\n",
        "r2 = Dropout(0.1)(r2)\n",
        "pool2 = MaxPooling2D(pool_size = (2, 2))(r2)\n",
        "r3 = Residual_3(32, 32, pool2)\n",
        "r3 = Dropout(0.1)(r3)\n",
        "r3 = Residual_3(32, 32, r3)\n",
        "r3 = Dropout(0.1)(r3)\n",
        "r3 = Residual_3(32, 32, r3)\n",
        "r3 = Dropout(0.1)(r3)\n",
        "pool3 = MaxPooling2D(pool_size = (2, 2))(r3)\n",
        "r4 = Residual_3(32, 32, pool3)\n",
        "r4 = Dropout(0.1)(r4)\n",
        "r4 = Residual_3(32, 32, r4)\n",
        "r4 = Dropout(0.1)(r4)\n",
        "r4 = Residual_3(32, 32, r4)\n",
        "r4 = Dropout(0.1)(r4)\n",
        "pool4 = MaxPooling2D(pool_size = (2, 2))(r4)\n",
        "r5 = Residual_3(32, 32, pool4)\n",
        "r5 = Dropout(0.1)(r5)\n",
        "r5 = Residual_3(32, 32, r5)\n",
        "r5 = Dropout(0.1)(r5)\n",
        "r5 = Residual_3(32, 32, r5)\n",
        "r5 = Dropout(0.1)(r5)\n",
        "pool5 = MaxPooling2D(pool_size = (2, 2))(r5)\n",
        "flt = Flatten()(pool5)\n",
        "dense1 = Dense(100, activation = 'relu')(flt)\n",
        "dense1 = Dropout(0.25)(dense1)\n",
        "#dense1 = BatchNormalization()(dense1)\n",
        "dense2 = Dense(28, activation = 'linear')(dense1)\n",
        "#out = Activation('linear')(dense2)\n",
        "model = Model(input=inp, output=dense2)\n",
        "#sgd = optimizers.SGD(lr=0.01,momentum = 0.9,nesterov=True)\n",
        "model.compile(loss=\"mean_squared_error\",optimizer='adam')\n",
        "model.summary()"
      ],
      "execution_count": 17,
      "outputs": [
        {
          "output_type": "stream",
          "text": [
            "/usr/local/lib/python3.6/dist-packages/ipykernel_launcher.py:18: UserWarning: The `merge` function is deprecated and will be removed after 08/2017. Use instead layers from `keras.layers.merge`, e.g. `add`, `concatenate`, etc.\n",
            "/usr/local/lib/python3.6/dist-packages/keras/legacy/layers.py:465: UserWarning: The `Merge` layer is deprecated and will be removed after 08/2017. Use instead layers from `keras.layers.merge`, e.g. `add`, `concatenate`, etc.\n",
            "  name=name)\n"
          ],
          "name": "stderr"
        },
        {
          "output_type": "stream",
          "text": [
            "__________________________________________________________________________________________________\n",
            "Layer (type)                    Output Shape         Param #     Connected to                     \n",
            "==================================================================================================\n",
            "input_1 (InputLayer)            (None, 100, 100, 3)  0                                            \n",
            "__________________________________________________________________________________________________\n",
            "conv2d_1 (Conv2D)               (None, 100, 100, 32) 896         input_1[0][0]                    \n",
            "__________________________________________________________________________________________________\n",
            "leaky_re_lu_1 (LeakyReLU)       (None, 100, 100, 32) 0           conv2d_1[0][0]                   \n",
            "__________________________________________________________________________________________________\n",
            "batch_normalization_1 (BatchNor (None, 100, 100, 32) 128         leaky_re_lu_1[0][0]              \n",
            "__________________________________________________________________________________________________\n",
            "batch_normalization_2 (BatchNor (None, 100, 100, 32) 128         batch_normalization_1[0][0]      \n",
            "__________________________________________________________________________________________________\n",
            "conv2d_2 (Conv2D)               (None, 100, 100, 32) 9248        batch_normalization_2[0][0]      \n",
            "__________________________________________________________________________________________________\n",
            "leaky_re_lu_2 (LeakyReLU)       (None, 100, 100, 32) 0           conv2d_2[0][0]                   \n",
            "__________________________________________________________________________________________________\n",
            "batch_normalization_3 (BatchNor (None, 100, 100, 32) 128         leaky_re_lu_2[0][0]              \n",
            "__________________________________________________________________________________________________\n",
            "conv2d_3 (Conv2D)               (None, 100, 100, 32) 4128        batch_normalization_3[0][0]      \n",
            "__________________________________________________________________________________________________\n",
            "leaky_re_lu_3 (LeakyReLU)       (None, 100, 100, 32) 0           conv2d_3[0][0]                   \n",
            "__________________________________________________________________________________________________\n",
            "merge_1 (Merge)                 (None, 100, 100, 32) 0           batch_normalization_1[0][0]      \n",
            "                                                                 leaky_re_lu_3[0][0]              \n",
            "__________________________________________________________________________________________________\n",
            "dropout_1 (Dropout)             (None, 100, 100, 32) 0           merge_1[0][0]                    \n",
            "__________________________________________________________________________________________________\n",
            "batch_normalization_4 (BatchNor (None, 100, 100, 32) 128         dropout_1[0][0]                  \n",
            "__________________________________________________________________________________________________\n",
            "conv2d_4 (Conv2D)               (None, 100, 100, 32) 9248        batch_normalization_4[0][0]      \n",
            "__________________________________________________________________________________________________\n",
            "leaky_re_lu_4 (LeakyReLU)       (None, 100, 100, 32) 0           conv2d_4[0][0]                   \n",
            "__________________________________________________________________________________________________\n",
            "batch_normalization_5 (BatchNor (None, 100, 100, 32) 128         leaky_re_lu_4[0][0]              \n",
            "__________________________________________________________________________________________________\n",
            "conv2d_5 (Conv2D)               (None, 100, 100, 32) 4128        batch_normalization_5[0][0]      \n",
            "__________________________________________________________________________________________________\n",
            "leaky_re_lu_5 (LeakyReLU)       (None, 100, 100, 32) 0           conv2d_5[0][0]                   \n",
            "__________________________________________________________________________________________________\n",
            "merge_2 (Merge)                 (None, 100, 100, 32) 0           dropout_1[0][0]                  \n",
            "                                                                 leaky_re_lu_5[0][0]              \n",
            "__________________________________________________________________________________________________\n",
            "dropout_2 (Dropout)             (None, 100, 100, 32) 0           merge_2[0][0]                    \n",
            "__________________________________________________________________________________________________\n",
            "batch_normalization_6 (BatchNor (None, 100, 100, 32) 128         dropout_2[0][0]                  \n",
            "__________________________________________________________________________________________________\n",
            "conv2d_6 (Conv2D)               (None, 100, 100, 32) 9248        batch_normalization_6[0][0]      \n",
            "__________________________________________________________________________________________________\n",
            "leaky_re_lu_6 (LeakyReLU)       (None, 100, 100, 32) 0           conv2d_6[0][0]                   \n",
            "__________________________________________________________________________________________________\n",
            "batch_normalization_7 (BatchNor (None, 100, 100, 32) 128         leaky_re_lu_6[0][0]              \n",
            "__________________________________________________________________________________________________\n",
            "conv2d_7 (Conv2D)               (None, 100, 100, 32) 4128        batch_normalization_7[0][0]      \n",
            "__________________________________________________________________________________________________\n",
            "leaky_re_lu_7 (LeakyReLU)       (None, 100, 100, 32) 0           conv2d_7[0][0]                   \n",
            "__________________________________________________________________________________________________\n",
            "merge_3 (Merge)                 (None, 100, 100, 32) 0           dropout_2[0][0]                  \n",
            "                                                                 leaky_re_lu_7[0][0]              \n",
            "__________________________________________________________________________________________________\n",
            "dropout_3 (Dropout)             (None, 100, 100, 32) 0           merge_3[0][0]                    \n",
            "__________________________________________________________________________________________________\n",
            "max_pooling2d_1 (MaxPooling2D)  (None, 50, 50, 32)   0           dropout_3[0][0]                  \n",
            "__________________________________________________________________________________________________\n",
            "batch_normalization_8 (BatchNor (None, 50, 50, 32)   128         max_pooling2d_1[0][0]            \n",
            "__________________________________________________________________________________________________\n",
            "conv2d_8 (Conv2D)               (None, 50, 50, 32)   9248        batch_normalization_8[0][0]      \n",
            "__________________________________________________________________________________________________\n",
            "leaky_re_lu_8 (LeakyReLU)       (None, 50, 50, 32)   0           conv2d_8[0][0]                   \n",
            "__________________________________________________________________________________________________\n",
            "batch_normalization_9 (BatchNor (None, 50, 50, 32)   128         leaky_re_lu_8[0][0]              \n",
            "__________________________________________________________________________________________________\n",
            "conv2d_9 (Conv2D)               (None, 50, 50, 32)   4128        batch_normalization_9[0][0]      \n",
            "__________________________________________________________________________________________________\n",
            "leaky_re_lu_9 (LeakyReLU)       (None, 50, 50, 32)   0           conv2d_9[0][0]                   \n",
            "__________________________________________________________________________________________________\n",
            "merge_4 (Merge)                 (None, 50, 50, 32)   0           max_pooling2d_1[0][0]            \n",
            "                                                                 leaky_re_lu_9[0][0]              \n",
            "__________________________________________________________________________________________________\n",
            "dropout_4 (Dropout)             (None, 50, 50, 32)   0           merge_4[0][0]                    \n",
            "__________________________________________________________________________________________________\n",
            "batch_normalization_10 (BatchNo (None, 50, 50, 32)   128         dropout_4[0][0]                  \n",
            "__________________________________________________________________________________________________\n",
            "conv2d_10 (Conv2D)              (None, 50, 50, 32)   9248        batch_normalization_10[0][0]     \n",
            "__________________________________________________________________________________________________\n",
            "leaky_re_lu_10 (LeakyReLU)      (None, 50, 50, 32)   0           conv2d_10[0][0]                  \n",
            "__________________________________________________________________________________________________\n",
            "batch_normalization_11 (BatchNo (None, 50, 50, 32)   128         leaky_re_lu_10[0][0]             \n",
            "__________________________________________________________________________________________________\n",
            "conv2d_11 (Conv2D)              (None, 50, 50, 32)   4128        batch_normalization_11[0][0]     \n",
            "__________________________________________________________________________________________________\n",
            "leaky_re_lu_11 (LeakyReLU)      (None, 50, 50, 32)   0           conv2d_11[0][0]                  \n",
            "__________________________________________________________________________________________________\n",
            "merge_5 (Merge)                 (None, 50, 50, 32)   0           dropout_4[0][0]                  \n",
            "                                                                 leaky_re_lu_11[0][0]             \n",
            "__________________________________________________________________________________________________\n",
            "dropout_5 (Dropout)             (None, 50, 50, 32)   0           merge_5[0][0]                    \n",
            "__________________________________________________________________________________________________\n",
            "batch_normalization_12 (BatchNo (None, 50, 50, 32)   128         dropout_5[0][0]                  \n",
            "__________________________________________________________________________________________________\n",
            "conv2d_12 (Conv2D)              (None, 50, 50, 32)   9248        batch_normalization_12[0][0]     \n",
            "__________________________________________________________________________________________________\n",
            "leaky_re_lu_12 (LeakyReLU)      (None, 50, 50, 32)   0           conv2d_12[0][0]                  \n",
            "__________________________________________________________________________________________________\n",
            "batch_normalization_13 (BatchNo (None, 50, 50, 32)   128         leaky_re_lu_12[0][0]             \n",
            "__________________________________________________________________________________________________\n",
            "conv2d_13 (Conv2D)              (None, 50, 50, 32)   4128        batch_normalization_13[0][0]     \n",
            "__________________________________________________________________________________________________\n",
            "leaky_re_lu_13 (LeakyReLU)      (None, 50, 50, 32)   0           conv2d_13[0][0]                  \n",
            "__________________________________________________________________________________________________\n",
            "merge_6 (Merge)                 (None, 50, 50, 32)   0           dropout_5[0][0]                  \n",
            "                                                                 leaky_re_lu_13[0][0]             \n",
            "__________________________________________________________________________________________________\n",
            "dropout_6 (Dropout)             (None, 50, 50, 32)   0           merge_6[0][0]                    \n",
            "__________________________________________________________________________________________________\n",
            "max_pooling2d_2 (MaxPooling2D)  (None, 25, 25, 32)   0           dropout_6[0][0]                  \n",
            "__________________________________________________________________________________________________\n",
            "batch_normalization_14 (BatchNo (None, 25, 25, 32)   128         max_pooling2d_2[0][0]            \n",
            "__________________________________________________________________________________________________\n",
            "conv2d_14 (Conv2D)              (None, 25, 25, 32)   9248        batch_normalization_14[0][0]     \n",
            "__________________________________________________________________________________________________\n",
            "leaky_re_lu_14 (LeakyReLU)      (None, 25, 25, 32)   0           conv2d_14[0][0]                  \n",
            "__________________________________________________________________________________________________\n",
            "batch_normalization_15 (BatchNo (None, 25, 25, 32)   128         leaky_re_lu_14[0][0]             \n",
            "__________________________________________________________________________________________________\n",
            "conv2d_15 (Conv2D)              (None, 25, 25, 32)   4128        batch_normalization_15[0][0]     \n",
            "__________________________________________________________________________________________________\n",
            "leaky_re_lu_15 (LeakyReLU)      (None, 25, 25, 32)   0           conv2d_15[0][0]                  \n",
            "__________________________________________________________________________________________________\n",
            "merge_7 (Merge)                 (None, 25, 25, 32)   0           max_pooling2d_2[0][0]            \n",
            "                                                                 leaky_re_lu_15[0][0]             \n",
            "__________________________________________________________________________________________________\n",
            "dropout_7 (Dropout)             (None, 25, 25, 32)   0           merge_7[0][0]                    \n",
            "__________________________________________________________________________________________________\n",
            "batch_normalization_16 (BatchNo (None, 25, 25, 32)   128         dropout_7[0][0]                  \n",
            "__________________________________________________________________________________________________\n",
            "conv2d_16 (Conv2D)              (None, 25, 25, 32)   9248        batch_normalization_16[0][0]     \n",
            "__________________________________________________________________________________________________\n",
            "leaky_re_lu_16 (LeakyReLU)      (None, 25, 25, 32)   0           conv2d_16[0][0]                  \n",
            "__________________________________________________________________________________________________\n",
            "batch_normalization_17 (BatchNo (None, 25, 25, 32)   128         leaky_re_lu_16[0][0]             \n",
            "__________________________________________________________________________________________________\n",
            "conv2d_17 (Conv2D)              (None, 25, 25, 32)   4128        batch_normalization_17[0][0]     \n",
            "__________________________________________________________________________________________________\n",
            "leaky_re_lu_17 (LeakyReLU)      (None, 25, 25, 32)   0           conv2d_17[0][0]                  \n",
            "__________________________________________________________________________________________________\n",
            "merge_8 (Merge)                 (None, 25, 25, 32)   0           dropout_7[0][0]                  \n",
            "                                                                 leaky_re_lu_17[0][0]             \n",
            "__________________________________________________________________________________________________\n",
            "dropout_8 (Dropout)             (None, 25, 25, 32)   0           merge_8[0][0]                    \n",
            "__________________________________________________________________________________________________\n",
            "batch_normalization_18 (BatchNo (None, 25, 25, 32)   128         dropout_8[0][0]                  \n",
            "__________________________________________________________________________________________________\n",
            "conv2d_18 (Conv2D)              (None, 25, 25, 32)   9248        batch_normalization_18[0][0]     \n",
            "__________________________________________________________________________________________________\n",
            "leaky_re_lu_18 (LeakyReLU)      (None, 25, 25, 32)   0           conv2d_18[0][0]                  \n",
            "__________________________________________________________________________________________________\n",
            "batch_normalization_19 (BatchNo (None, 25, 25, 32)   128         leaky_re_lu_18[0][0]             \n",
            "__________________________________________________________________________________________________\n",
            "conv2d_19 (Conv2D)              (None, 25, 25, 32)   4128        batch_normalization_19[0][0]     \n",
            "__________________________________________________________________________________________________\n",
            "leaky_re_lu_19 (LeakyReLU)      (None, 25, 25, 32)   0           conv2d_19[0][0]                  \n",
            "__________________________________________________________________________________________________\n",
            "merge_9 (Merge)                 (None, 25, 25, 32)   0           dropout_8[0][0]                  \n",
            "                                                                 leaky_re_lu_19[0][0]             \n",
            "__________________________________________________________________________________________________\n",
            "dropout_9 (Dropout)             (None, 25, 25, 32)   0           merge_9[0][0]                    \n",
            "__________________________________________________________________________________________________\n",
            "max_pooling2d_3 (MaxPooling2D)  (None, 12, 12, 32)   0           dropout_9[0][0]                  \n",
            "__________________________________________________________________________________________________\n",
            "batch_normalization_20 (BatchNo (None, 12, 12, 32)   128         max_pooling2d_3[0][0]            \n",
            "__________________________________________________________________________________________________\n",
            "conv2d_20 (Conv2D)              (None, 12, 12, 32)   9248        batch_normalization_20[0][0]     \n",
            "__________________________________________________________________________________________________\n",
            "leaky_re_lu_20 (LeakyReLU)      (None, 12, 12, 32)   0           conv2d_20[0][0]                  \n",
            "__________________________________________________________________________________________________\n",
            "batch_normalization_21 (BatchNo (None, 12, 12, 32)   128         leaky_re_lu_20[0][0]             \n",
            "__________________________________________________________________________________________________\n",
            "conv2d_21 (Conv2D)              (None, 12, 12, 32)   4128        batch_normalization_21[0][0]     \n",
            "__________________________________________________________________________________________________\n",
            "leaky_re_lu_21 (LeakyReLU)      (None, 12, 12, 32)   0           conv2d_21[0][0]                  \n",
            "__________________________________________________________________________________________________\n",
            "merge_10 (Merge)                (None, 12, 12, 32)   0           max_pooling2d_3[0][0]            \n",
            "                                                                 leaky_re_lu_21[0][0]             \n",
            "__________________________________________________________________________________________________\n",
            "dropout_10 (Dropout)            (None, 12, 12, 32)   0           merge_10[0][0]                   \n",
            "__________________________________________________________________________________________________\n",
            "batch_normalization_22 (BatchNo (None, 12, 12, 32)   128         dropout_10[0][0]                 \n",
            "__________________________________________________________________________________________________\n",
            "conv2d_22 (Conv2D)              (None, 12, 12, 32)   9248        batch_normalization_22[0][0]     \n",
            "__________________________________________________________________________________________________\n",
            "leaky_re_lu_22 (LeakyReLU)      (None, 12, 12, 32)   0           conv2d_22[0][0]                  \n",
            "__________________________________________________________________________________________________\n",
            "batch_normalization_23 (BatchNo (None, 12, 12, 32)   128         leaky_re_lu_22[0][0]             \n",
            "__________________________________________________________________________________________________\n",
            "conv2d_23 (Conv2D)              (None, 12, 12, 32)   4128        batch_normalization_23[0][0]     \n",
            "__________________________________________________________________________________________________\n",
            "leaky_re_lu_23 (LeakyReLU)      (None, 12, 12, 32)   0           conv2d_23[0][0]                  \n",
            "__________________________________________________________________________________________________\n",
            "merge_11 (Merge)                (None, 12, 12, 32)   0           dropout_10[0][0]                 \n",
            "                                                                 leaky_re_lu_23[0][0]             \n",
            "__________________________________________________________________________________________________\n",
            "dropout_11 (Dropout)            (None, 12, 12, 32)   0           merge_11[0][0]                   \n",
            "__________________________________________________________________________________________________\n",
            "batch_normalization_24 (BatchNo (None, 12, 12, 32)   128         dropout_11[0][0]                 \n",
            "__________________________________________________________________________________________________\n",
            "conv2d_24 (Conv2D)              (None, 12, 12, 32)   9248        batch_normalization_24[0][0]     \n",
            "__________________________________________________________________________________________________\n",
            "leaky_re_lu_24 (LeakyReLU)      (None, 12, 12, 32)   0           conv2d_24[0][0]                  \n",
            "__________________________________________________________________________________________________\n",
            "batch_normalization_25 (BatchNo (None, 12, 12, 32)   128         leaky_re_lu_24[0][0]             \n",
            "__________________________________________________________________________________________________\n",
            "conv2d_25 (Conv2D)              (None, 12, 12, 32)   4128        batch_normalization_25[0][0]     \n",
            "__________________________________________________________________________________________________\n",
            "leaky_re_lu_25 (LeakyReLU)      (None, 12, 12, 32)   0           conv2d_25[0][0]                  \n",
            "__________________________________________________________________________________________________\n",
            "merge_12 (Merge)                (None, 12, 12, 32)   0           dropout_11[0][0]                 \n",
            "                                                                 leaky_re_lu_25[0][0]             \n",
            "__________________________________________________________________________________________________\n",
            "dropout_12 (Dropout)            (None, 12, 12, 32)   0           merge_12[0][0]                   \n",
            "__________________________________________________________________________________________________\n",
            "max_pooling2d_4 (MaxPooling2D)  (None, 6, 6, 32)     0           dropout_12[0][0]                 \n",
            "__________________________________________________________________________________________________\n",
            "batch_normalization_26 (BatchNo (None, 6, 6, 32)     128         max_pooling2d_4[0][0]            \n",
            "__________________________________________________________________________________________________\n",
            "conv2d_26 (Conv2D)              (None, 6, 6, 32)     9248        batch_normalization_26[0][0]     \n",
            "__________________________________________________________________________________________________\n",
            "leaky_re_lu_26 (LeakyReLU)      (None, 6, 6, 32)     0           conv2d_26[0][0]                  \n",
            "__________________________________________________________________________________________________\n",
            "batch_normalization_27 (BatchNo (None, 6, 6, 32)     128         leaky_re_lu_26[0][0]             \n",
            "__________________________________________________________________________________________________\n",
            "conv2d_27 (Conv2D)              (None, 6, 6, 32)     4128        batch_normalization_27[0][0]     \n",
            "__________________________________________________________________________________________________\n",
            "leaky_re_lu_27 (LeakyReLU)      (None, 6, 6, 32)     0           conv2d_27[0][0]                  \n",
            "__________________________________________________________________________________________________\n",
            "merge_13 (Merge)                (None, 6, 6, 32)     0           max_pooling2d_4[0][0]            \n",
            "                                                                 leaky_re_lu_27[0][0]             \n",
            "__________________________________________________________________________________________________\n",
            "dropout_13 (Dropout)            (None, 6, 6, 32)     0           merge_13[0][0]                   \n",
            "__________________________________________________________________________________________________\n",
            "batch_normalization_28 (BatchNo (None, 6, 6, 32)     128         dropout_13[0][0]                 \n",
            "__________________________________________________________________________________________________\n",
            "conv2d_28 (Conv2D)              (None, 6, 6, 32)     9248        batch_normalization_28[0][0]     \n",
            "__________________________________________________________________________________________________\n",
            "leaky_re_lu_28 (LeakyReLU)      (None, 6, 6, 32)     0           conv2d_28[0][0]                  \n",
            "__________________________________________________________________________________________________\n",
            "batch_normalization_29 (BatchNo (None, 6, 6, 32)     128         leaky_re_lu_28[0][0]             \n",
            "__________________________________________________________________________________________________\n",
            "conv2d_29 (Conv2D)              (None, 6, 6, 32)     4128        batch_normalization_29[0][0]     \n",
            "__________________________________________________________________________________________________\n",
            "leaky_re_lu_29 (LeakyReLU)      (None, 6, 6, 32)     0           conv2d_29[0][0]                  \n",
            "__________________________________________________________________________________________________\n",
            "merge_14 (Merge)                (None, 6, 6, 32)     0           dropout_13[0][0]                 \n",
            "                                                                 leaky_re_lu_29[0][0]             \n",
            "__________________________________________________________________________________________________\n",
            "dropout_14 (Dropout)            (None, 6, 6, 32)     0           merge_14[0][0]                   \n",
            "__________________________________________________________________________________________________\n",
            "batch_normalization_30 (BatchNo (None, 6, 6, 32)     128         dropout_14[0][0]                 \n",
            "__________________________________________________________________________________________________\n",
            "conv2d_30 (Conv2D)              (None, 6, 6, 32)     9248        batch_normalization_30[0][0]     \n",
            "__________________________________________________________________________________________________\n",
            "leaky_re_lu_30 (LeakyReLU)      (None, 6, 6, 32)     0           conv2d_30[0][0]                  \n",
            "__________________________________________________________________________________________________\n",
            "batch_normalization_31 (BatchNo (None, 6, 6, 32)     128         leaky_re_lu_30[0][0]             \n",
            "__________________________________________________________________________________________________\n",
            "conv2d_31 (Conv2D)              (None, 6, 6, 32)     4128        batch_normalization_31[0][0]     \n",
            "__________________________________________________________________________________________________\n",
            "leaky_re_lu_31 (LeakyReLU)      (None, 6, 6, 32)     0           conv2d_31[0][0]                  \n",
            "__________________________________________________________________________________________________\n",
            "merge_15 (Merge)                (None, 6, 6, 32)     0           dropout_14[0][0]                 \n",
            "                                                                 leaky_re_lu_31[0][0]             \n",
            "__________________________________________________________________________________________________\n",
            "dropout_15 (Dropout)            (None, 6, 6, 32)     0           merge_15[0][0]                   \n",
            "__________________________________________________________________________________________________\n",
            "max_pooling2d_5 (MaxPooling2D)  (None, 3, 3, 32)     0           dropout_15[0][0]                 \n",
            "__________________________________________________________________________________________________\n",
            "flatten_1 (Flatten)             (None, 288)          0           max_pooling2d_5[0][0]            \n",
            "__________________________________________________________________________________________________\n",
            "dense_1 (Dense)                 (None, 100)          28900       flatten_1[0][0]                  \n",
            "__________________________________________________________________________________________________\n",
            "dropout_16 (Dropout)            (None, 100)          0           dense_1[0][0]                    \n",
            "__________________________________________________________________________________________________\n",
            "dense_2 (Dense)                 (None, 28)           2828        dropout_16[0][0]                 \n",
            "==================================================================================================\n",
            "Total params: 237,232\n",
            "Trainable params: 235,248\n",
            "Non-trainable params: 1,984\n",
            "__________________________________________________________________________________________________\n"
          ],
          "name": "stdout"
        },
        {
          "output_type": "stream",
          "text": [
            "/usr/local/lib/python3.6/dist-packages/ipykernel_launcher.py:68: UserWarning: Update your `Model` call to the Keras 2 API: `Model(inputs=Tensor(\"in..., outputs=Tensor(\"de...)`\n"
          ],
          "name": "stderr"
        }
      ]
    },
    {
      "metadata": {
        "id": "UhLWgmBCid22",
        "colab_type": "code",
        "colab": {}
      },
      "cell_type": "code",
      "source": [
        "from keras.layers import Conv2D, MaxPooling2D,Flatten, Dropout\n",
        "\n",
        "def SimpleCNN(withDropout=False):\n",
        "    '''\n",
        "    WithDropout: If True, then dropout regularlization is added.\n",
        "    This feature is experimented later.\n",
        "    '''\n",
        "    model = Sequential()\n",
        "    model.add(Conv2D(32,(3, 3), input_shape = (100, 100, 3)))\n",
        "    model.add(Activation('relu'))\n",
        "    model.add(Conv2D(32,(2,2)))\n",
        "    model.add(Activation('relu'))\n",
        "    model.add(MaxPooling2D(pool_size = (2,2)))\n",
        "    if withDropout:\n",
        "        model.add(Dropout(0.1))\n",
        "        \n",
        "    model.add(Conv2D(64,(2,2)))\n",
        "    model.add(Activation('relu'))\n",
        "    model.add(Conv2D(64,(2,2)))\n",
        "    model.add(Activation('relu'))\n",
        "    model.add(MaxPooling2D(pool_size = (2,2)))\n",
        "    if withDropout:\n",
        "        model.add(Dropout(0.1))\n",
        "    \n",
        "    model.add(Conv2D(128,(2,2)))\n",
        "    model.add(Activation('relu'))\n",
        "    model.add(Conv2D(128,(2,2)))\n",
        "    model.add(Activation('relu'))\n",
        "    model.add(MaxPooling2D(pool_size=(2,2)))\n",
        "    if withDropout:\n",
        "        model.add(Dropout(0.1))\n",
        "        \n",
        "    model.add(Flatten())\n",
        "    \n",
        "    model.add(Dense(1024))\n",
        "    model.add(Activation('relu'))\n",
        "    if withDropout:\n",
        "        model.add(Dropout(0.1))\n",
        "        \n",
        "    model.add(Dense(256))\n",
        "    model.add(Activation('relu'))\n",
        "    if withDropout:\n",
        "        model.add(Dropout(0.1))\n",
        "        \n",
        "    model.add(Dense(28))\n",
        "    sgd = Adam(lr =0.0005, decay = 1e-8)\n",
        "    model.compile(loss=\"mean_squared_error\",optimizer=sgd)\n",
        "    return(model)"
      ],
      "execution_count": 0,
      "outputs": []
    },
    {
      "metadata": {
        "id": "RBITXHdlINJD",
        "colab_type": "code",
        "colab": {}
      },
      "cell_type": "code",
      "source": [
        "model = SimpleCNN(withDropout = False)"
      ],
      "execution_count": 0,
      "outputs": []
    },
    {
      "metadata": {
        "id": "NWrsjcNwzCdd",
        "colab_type": "code",
        "colab": {}
      },
      "cell_type": "code",
      "source": [
        "from sklearn.model_selection import train_test_split\n",
        "X_train, X_test, y_train, y_test = train_test_split(datas.x, datas.y, test_size=0.2)"
      ],
      "execution_count": 0,
      "outputs": []
    },
    {
      "metadata": {
        "id": "ZpiVZcQmh4h2",
        "colab_type": "code",
        "colab": {}
      },
      "cell_type": "code",
      "source": [
        "def plot_sample(X,y,axs):\n",
        "    '''\n",
        "    kaggle picture is 96 by 96\n",
        "    y is rescaled to range between -1 and 1\n",
        "    '''\n",
        "    img = X.reshape(100,100,3)\n",
        "    image = 0.299 * img[:, :, 0] + 0.587 * img[:, :, 1] + 0.114 * img[:, :, 2]\n",
        "    axs.imshow(image,cmap=\"gray\")\n",
        "    axs.scatter(y[0::2],y[1::2])"
      ],
      "execution_count": 0,
      "outputs": []
    },
    {
      "metadata": {
        "id": "XowcIeh1i_Ty",
        "colab_type": "code",
        "colab": {
          "base_uri": "https://localhost:8080/",
          "height": 550
        },
        "outputId": "f6f85487-515e-4917-f96d-a259e01a327b"
      },
      "cell_type": "code",
      "source": [
        "import matplotlib.pyplot as plt\n",
        "\n",
        "fig = plt.figure(figsize=(7, 7))\n",
        "fig.subplots_adjust(hspace=0.13,wspace=0.0001,\n",
        "                     left=0,right=1,bottom=0, top=1)\n",
        "Npicture = 9\n",
        "count = 1\n",
        "for irow in range(Npicture):\n",
        "    ipic = np.random.choice(X_test.shape[0])\n",
        "    ax = fig.add_subplot(Npicture/3 , 3, count,xticks=[],yticks=[])\n",
        "    plot_sample(X_test[ipic],y_test[ipic][22: 28],ax)\n",
        "    ax.set_title(\"picture \"+ str(ipic))\n",
        "    count += 1\n",
        "plt.show()\n",
        "\n"
      ],
      "execution_count": 22,
      "outputs": [
        {
          "output_type": "display_data",
          "data": {
            "image/png": "[encoded data removed]",
            "text/plain": [
              "<matplotlib.figure.Figure at 0x7f20b48f1b70>"
            ]
          },
          "metadata": {
            "tags": []
          }
        }
      ]
    },
    {
      "metadata": {
        "id": "GJDZMeBWfxRv",
        "colab_type": "code",
        "colab": {}
      },
      "cell_type": "code",
      "source": [
        "class DataModifier(object):\n",
        "    def fit(self,X_,y_):\n",
        "        return(NotImplementedError)\n",
        "    \n",
        "class FlipPic(DataModifier):\n",
        "    def __init__(self,flip_indices=None):\n",
        "        if flip_indices is None:\n",
        "            flip_indices = [\n",
        "                (0, 6), (1, 7),\n",
        "                (2, 4), (3, 5), (12, 14), (13, 15),\n",
        "                (8, 18), (9, 19), (10, 16), (11, 17),\n",
        "                (22, 26), (23, 27)\n",
        "                ]\n",
        "        \n",
        "        self.flip_indices = flip_indices\n",
        "        \n",
        "    def fit(self,X_batch,y_batch):\n",
        "\n",
        "        batch_size = X_batch.shape[0]\n",
        "        indices = np.random.choice(batch_size, batch_size//2, replace=False)\n",
        "\n",
        "        X_batch[indices] = X_batch[indices, :, ::-1,:]\n",
        "        y_batch[indices, ::2] = y_batch[indices, ::2] * -1 + 100\n",
        "\n",
        "        # flip left eye to right eye, left mouth to right mouth and so on .. \n",
        "        for a, b in self.flip_indices:\n",
        "            y_batch[indices, a], y_batch[indices, b] = (\n",
        "                    y_batch[indices, b], y_batch[indices, a]\n",
        "                )\n",
        "        return X_batch, y_batch"
      ],
      "execution_count": 0,
      "outputs": []
    },
    {
      "metadata": {
        "id": "0nrNGoIjm1D6",
        "colab_type": "code",
        "colab": {
          "base_uri": "https://localhost:8080/",
          "height": 411
        },
        "outputId": "7a850423-ec9f-4c08-e876-ec6c05dcf307"
      },
      "cell_type": "code",
      "source": [
        "from keras.preprocessing.image import ImageDataGenerator\n",
        "\n",
        "generator = ImageDataGenerator()\n",
        "modifier = FlipPic()\n",
        "\n",
        "fig = plt.figure(figsize=(7,7))\n",
        "\n",
        "count = 1\n",
        "for batch in generator.flow(X_train[:2],y_train[:2]):\n",
        "    X_batch, y_batch = modifier.fit(*batch)\n",
        "\n",
        "    ax = fig.add_subplot(3,3, count,xticks=[],yticks=[])  \n",
        "    plot_sample(X_batch[0],y_batch[0],ax)\n",
        "    count += 1\n",
        "    if count == 10:\n",
        "        break\n",
        "plt.show()"
      ],
      "execution_count": 24,
      "outputs": [
        {
          "output_type": "display_data",
          "data": {
            "image/png": "[encoded data removed]",
            "text/plain": [
              "<matplotlib.figure.Figure at 0x7f2087831d68>"
            ]
          },
          "metadata": {
            "tags": []
          }
        }
      ]
    },
    {
      "metadata": {
        "id": "0j9C-LcZgbPN",
        "colab_type": "code",
        "colab": {}
      },
      "cell_type": "code",
      "source": [
        "from keras.preprocessing.image import ImageDataGenerator\n",
        "\n",
        "generator = ImageDataGenerator()\n",
        "modifier = FlipPic()"
      ],
      "execution_count": 0,
      "outputs": []
    },
    {
      "metadata": {
        "id": "5WuBh4khf4iQ",
        "colab_type": "code",
        "colab": {}
      },
      "cell_type": "code",
      "source": [
        "def fit(model,modifier,train,validation,\n",
        "        batch_size=32,epochs=2000,print_every=10,patience=np.Inf):\n",
        "    '''\n",
        "    model :        keras model object\n",
        "    Modifier:      DataModifier() object\n",
        "    train:         tuple containing two numpy arrays (X_train,y_train)\n",
        "    validation:    tuple containing two numpy arrays (X_val,y_val)\n",
        "    patience:      The back propagation algorithm will stop if the val_loss does not decrease \n",
        "                   after  epochs\n",
        "    '''\n",
        "    \n",
        "    ## manually write fit method\n",
        "    X_train,y_train = train\n",
        "    X_val, y_val    = validation\n",
        "    \n",
        "    generator = ImageDataGenerator()\n",
        "    \n",
        "    history = {\"loss\":[],\"val_loss\":[]}\n",
        "    for e in range(epochs):\n",
        "        if e % print_every == 0:\n",
        "            print('Epoch {:4}:'.format(e)), \n",
        "        ## -------- ##\n",
        "        ## training\n",
        "        ## -------- ##\n",
        "        batches = 0\n",
        "        loss_epoch = []\n",
        "        for X_batch, y_batch in generator.flow(X_train, y_train, batch_size=batch_size):\n",
        "            X_batch, y_batch = modifier.fit(X_batch, y_batch)\n",
        "            hist = model.fit(X_batch, y_batch,verbose=False,epochs=1)\n",
        "            loss_epoch.extend(hist.history[\"loss\"])\n",
        "            batches += 1\n",
        "            if batches >= len(X_train) / batch_size:\n",
        "                # we need to break the loop by hand because\n",
        "                # the generator loops indefinitely\n",
        "                break   \n",
        "        loss = np.mean(loss_epoch)\n",
        "        history[\"loss\"].append(loss)\n",
        "        ## --------- ##\n",
        "        ## validation\n",
        "        ## --------- ##\n",
        "        y_pred = model.predict(X_val)\n",
        "        val_loss = np.mean((y_pred - y_val)**2)\n",
        "        history[\"val_loss\"].append(val_loss)\n",
        "        if e % print_every == 0:\n",
        "            print(\"loss - {:6.5f}, val_loss - {:6.5f}\".format(loss,val_loss))\n",
        "        min_val_loss = np.min(history[\"val_loss\"])\n",
        "        ## Early stopping\n",
        "        if patience is not np.Inf:\n",
        "            if np.all(min_val_loss < np.array(history[\"val_loss\"])[-patience:]):\n",
        "                break\n",
        "    return(history)"
      ],
      "execution_count": 0,
      "outputs": []
    },
    {
      "metadata": {
        "id": "zGvJJExEgR3j",
        "colab_type": "code",
        "colab": {
          "base_uri": "https://localhost:8080/",
          "height": 1545
        },
        "outputId": "02268257-723e-431f-d78c-e1b9cf44beac"
      },
      "cell_type": "code",
      "source": [
        "fit(model,modifier,\n",
        "           train=(X_train,y_train),\n",
        "           validation=(X_test,y_test),\n",
        "           batch_size=32, epochs=22, print_every=1\n",
        "           )"
      ],
      "execution_count": 80,
      "outputs": [
        {
          "output_type": "stream",
          "text": [
            "Epoch    0:\n",
            "loss - 162.14810, val_loss - 35.48162\n",
            "Epoch    1:\n",
            "loss - 31.83674, val_loss - 25.62566\n",
            "Epoch    2:\n",
            "loss - 24.05691, val_loss - 20.37307\n",
            "Epoch    3:\n",
            "loss - 21.83670, val_loss - 20.54052\n",
            "Epoch    4:\n",
            "loss - 19.81016, val_loss - 17.15549\n",
            "Epoch    5:\n",
            "loss - 19.92323, val_loss - 17.83185\n",
            "Epoch    6:\n",
            "loss - 17.08256, val_loss - 17.13621\n",
            "Epoch    7:\n",
            "loss - 16.55310, val_loss - 18.25899\n",
            "Epoch    8:\n",
            "loss - 16.12993, val_loss - 15.58002\n",
            "Epoch    9:\n",
            "loss - 14.84099, val_loss - 14.84898\n",
            "Epoch   10:\n",
            "loss - 13.97919, val_loss - 16.49606\n",
            "Epoch   11:\n",
            "loss - 13.20310, val_loss - 13.63456\n",
            "Epoch   12:\n",
            "loss - 12.36981, val_loss - 13.34840\n",
            "Epoch   13:\n",
            "loss - 12.62810, val_loss - 13.56053\n",
            "Epoch   14:\n",
            "loss - 11.06072, val_loss - 12.81806\n",
            "Epoch   15:\n",
            "loss - 10.38380, val_loss - 12.50963\n",
            "Epoch   16:\n",
            "loss - 10.26773, val_loss - 16.28401\n",
            "Epoch   17:\n",
            "loss - 10.21407, val_loss - 11.59295\n",
            "Epoch   18:\n",
            "loss - 9.31198, val_loss - 11.33966\n",
            "Epoch   19:\n",
            "loss - 8.51080, val_loss - 11.04857\n",
            "Epoch   20:\n",
            "loss - 8.65952, val_loss - 10.49380\n",
            "Epoch   21:\n",
            "loss - 7.89118, val_loss - 10.46386\n"
          ],
          "name": "stdout"
        },
        {
          "output_type": "execute_result",
          "data": {
            "text/plain": [
              "{'loss': [162.14810222625732,\n",
              "  31.83674487431844,\n",
              "  24.05690970102946,\n",
              "  21.836699250539144,\n",
              "  19.81015514373779,\n",
              "  19.923234071731567,\n",
              "  17.08256044069926,\n",
              "  16.553103399276733,\n",
              "  16.12992847442627,\n",
              "  14.840990673700968,\n",
              "  13.979185117085775,\n",
              "  13.20310344060262,\n",
              "  12.369814745585124,\n",
              "  12.628102696736654,\n",
              "  11.060722500483195,\n",
              "  10.383804960250854,\n",
              "  10.26772741317749,\n",
              "  10.214072780609131,\n",
              "  9.311981026331583,\n",
              "  8.51080086072286,\n",
              "  8.659519481658936,\n",
              "  7.891183331807454],\n",
              " 'val_loss': [35.481617,\n",
              "  25.62566,\n",
              "  20.373068,\n",
              "  20.540524,\n",
              "  17.155493,\n",
              "  17.831852,\n",
              "  17.13621,\n",
              "  18.258991,\n",
              "  15.580022,\n",
              "  14.848982,\n",
              "  16.496058,\n",
              "  13.634557,\n",
              "  13.348403,\n",
              "  13.560527,\n",
              "  12.818057,\n",
              "  12.509632,\n",
              "  16.284012,\n",
              "  11.592949,\n",
              "  11.33966,\n",
              "  11.048568,\n",
              "  10.493799,\n",
              "  10.463861]}"
            ]
          },
          "metadata": {
            "tags": []
          },
          "execution_count": 80
        }
      ]
    },
    {
      "metadata": {
        "id": "v1J5gsOuoF6g",
        "colab_type": "code",
        "colab": {
          "base_uri": "https://localhost:8080/",
          "height": 851
        },
        "outputId": "e6d29b31-1639-4f89-8265-f1c8b8696388"
      },
      "cell_type": "code",
      "source": [
        "fit(model,modifier,\n",
        "           train=(X_train,y_train),\n",
        "           validation=(X_test,y_test),\n",
        "           batch_size=64, epochs=12, print_every=1\n",
        "           )"
      ],
      "execution_count": 81,
      "outputs": [
        {
          "output_type": "stream",
          "text": [
            "Epoch    0:\n",
            "loss - 7.62060, val_loss - 11.42715\n",
            "Epoch    1:\n",
            "loss - 7.58249, val_loss - 10.06041\n",
            "Epoch    2:\n",
            "loss - 7.45634, val_loss - 10.05653\n",
            "Epoch    3:\n",
            "loss - 6.86093, val_loss - 10.38771\n",
            "Epoch    4:\n",
            "loss - 6.84506, val_loss - 10.07886\n",
            "Epoch    5:\n",
            "loss - 6.53217, val_loss - 10.40886\n",
            "Epoch    6:\n",
            "loss - 6.42400, val_loss - 10.15167\n",
            "Epoch    7:\n",
            "loss - 6.14478, val_loss - 9.70896\n",
            "Epoch    8:\n",
            "loss - 6.19624, val_loss - 9.38789\n",
            "Epoch    9:\n",
            "loss - 5.94556, val_loss - 9.80722\n",
            "Epoch   10:\n",
            "loss - 6.06911, val_loss - 9.61046\n",
            "Epoch   11:\n",
            "loss - 5.92232, val_loss - 10.05199\n"
          ],
          "name": "stdout"
        },
        {
          "output_type": "execute_result",
          "data": {
            "text/plain": [
              "{'loss': [7.620604225794474,\n",
              "  7.5824928538004555,\n",
              "  7.456342069307963,\n",
              "  6.860925480524699,\n",
              "  6.845056864420573,\n",
              "  6.53217204729716,\n",
              "  6.424001453717549,\n",
              "  6.144784145355224,\n",
              "  6.196240512530009,\n",
              "  5.945558656056722,\n",
              "  6.06911408106486,\n",
              "  5.922316678365072],\n",
              " 'val_loss': [11.42715,\n",
              "  10.060406,\n",
              "  10.056533,\n",
              "  10.387714,\n",
              "  10.078863,\n",
              "  10.408861,\n",
              "  10.151666,\n",
              "  9.708964,\n",
              "  9.387889,\n",
              "  9.8072195,\n",
              "  9.61046,\n",
              "  10.051994]}"
            ]
          },
          "metadata": {
            "tags": []
          },
          "execution_count": 81
        }
      ]
    },
    {
      "metadata": {
        "id": "4HDg_HpKrYfL",
        "colab_type": "code",
        "colab": {
          "base_uri": "https://localhost:8080/",
          "height": 573
        },
        "outputId": "29dae5a8-55ac-4a6f-c4cd-58d3e4fa6683"
      },
      "cell_type": "code",
      "source": [
        "fit(model,modifier,\n",
        "           train=(X_train,y_train),\n",
        "           validation=(X_test,y_test),\n",
        "           batch_size=128, epochs=8, print_every=1\n",
        "           )"
      ],
      "execution_count": 82,
      "outputs": [
        {
          "output_type": "stream",
          "text": [
            "Epoch    0:\n",
            "loss - 5.83105, val_loss - 9.39301\n",
            "Epoch    1:\n",
            "loss - 5.43974, val_loss - 10.24211\n",
            "Epoch    2:\n",
            "loss - 5.41306, val_loss - 9.23281\n",
            "Epoch    3:\n",
            "loss - 5.64947, val_loss - 9.40931\n",
            "Epoch    4:\n",
            "loss - 5.24583, val_loss - 9.31166\n",
            "Epoch    5:\n",
            "loss - 5.10631, val_loss - 9.98612\n",
            "Epoch    6:\n",
            "loss - 4.85007, val_loss - 9.35130\n",
            "Epoch    7:\n",
            "loss - 4.65068, val_loss - 9.27247\n"
          ],
          "name": "stdout"
        },
        {
          "output_type": "execute_result",
          "data": {
            "text/plain": [
              "{'loss': [5.831052110383385,\n",
              "  5.439735318485059,\n",
              "  5.4130583421180125,\n",
              "  5.649468977200358,\n",
              "  5.245827704668045,\n",
              "  5.106312925878324,\n",
              "  4.850068090777648,\n",
              "  4.6506768637581875],\n",
              " 'val_loss': [9.393015,\n",
              "  10.24211,\n",
              "  9.232807,\n",
              "  9.409313,\n",
              "  9.311655,\n",
              "  9.98612,\n",
              "  9.351299,\n",
              "  9.272473]}"
            ]
          },
          "metadata": {
            "tags": []
          },
          "execution_count": 82
        }
      ]
    },
    {
      "metadata": {
        "id": "Naukp8tLoLTZ",
        "colab_type": "code",
        "colab": {
          "base_uri": "https://localhost:8080/",
          "height": 573
        },
        "outputId": "6641d8d1-8af4-409a-c6e4-b27ae5d8ce49"
      },
      "cell_type": "code",
      "source": [
        "fit(model,modifier,\n",
        "           train=(X_train,y_train),\n",
        "           validation=(X_test,y_test),\n",
        "           batch_size=256, epochs=8, print_every=1\n",
        "           )"
      ],
      "execution_count": 83,
      "outputs": [
        {
          "output_type": "stream",
          "text": [
            "Epoch    0:\n",
            "loss - 4.69048, val_loss - 10.07024\n",
            "Epoch    1:\n",
            "loss - 4.80073, val_loss - 9.30556\n",
            "Epoch    2:\n",
            "loss - 4.46909, val_loss - 10.53262\n",
            "Epoch    3:\n",
            "loss - 4.57553, val_loss - 9.60750\n",
            "Epoch    4:\n",
            "loss - 4.36552, val_loss - 9.54225\n",
            "Epoch    5:\n",
            "loss - 4.34176, val_loss - 10.12931\n",
            "Epoch    6:\n",
            "loss - 4.32966, val_loss - 9.61761\n",
            "Epoch    7:\n",
            "loss - 4.08394, val_loss - 9.51696\n"
          ],
          "name": "stdout"
        },
        {
          "output_type": "execute_result",
          "data": {
            "text/plain": [
              "{'loss': [4.690481734903235,\n",
              "  4.800731800104442,\n",
              "  4.469091730159626,\n",
              "  4.575526313300719,\n",
              "  4.365523318972504,\n",
              "  4.3417566873525315,\n",
              "  4.3296643924294855,\n",
              "  4.083940808710299],\n",
              " 'val_loss': [10.070241,\n",
              "  9.305562,\n",
              "  10.532621,\n",
              "  9.607497,\n",
              "  9.542247,\n",
              "  10.129311,\n",
              "  9.617612,\n",
              "  9.516963]}"
            ]
          },
          "metadata": {
            "tags": []
          },
          "execution_count": 83
        }
      ]
    },
    {
      "metadata": {
        "id": "dnZEohWtpn4w",
        "colab_type": "code",
        "colab": {
          "base_uri": "https://localhost:8080/",
          "height": 573
        },
        "outputId": "f0e585fb-4f3d-4034-a48e-cce8bc7b6c26"
      },
      "cell_type": "code",
      "source": [
        "fit(model,modifier,\n",
        "           train=(X_train,y_train),\n",
        "           validation=(X_test,y_test),\n",
        "           batch_size=1024, epochs=8, print_every=1\n",
        "           )"
      ],
      "execution_count": 84,
      "outputs": [
        {
          "output_type": "stream",
          "text": [
            "Epoch    0:\n",
            "loss - 4.19547, val_loss - 9.02198\n",
            "Epoch    1:\n",
            "loss - 3.76821, val_loss - 9.15283\n",
            "Epoch    2:\n",
            "loss - 3.93019, val_loss - 8.91115\n",
            "Epoch    3:\n",
            "loss - 3.65431, val_loss - 9.25941\n",
            "Epoch    4:\n",
            "loss - 3.59997, val_loss - 9.01050\n",
            "Epoch    5:\n",
            "loss - 3.53629, val_loss - 9.17939\n",
            "Epoch    6:\n",
            "loss - 3.57175, val_loss - 9.28403\n",
            "Epoch    7:\n",
            "loss - 3.54123, val_loss - 9.22688\n"
          ],
          "name": "stdout"
        },
        {
          "output_type": "execute_result",
          "data": {
            "text/plain": [
              "{'loss': [4.195471685853872,\n",
              "  3.7682092264294624,\n",
              "  3.930190682546659,\n",
              "  3.6543100790543988,\n",
              "  3.5999699015508995,\n",
              "  3.536285342817957,\n",
              "  3.571753938631578,\n",
              "  3.541229603371837],\n",
              " 'val_loss': [9.021976,\n",
              "  9.152834,\n",
              "  8.911153,\n",
              "  9.259406,\n",
              "  9.010499,\n",
              "  9.179391,\n",
              "  9.284029,\n",
              "  9.226883]}"
            ]
          },
          "metadata": {
            "tags": []
          },
          "execution_count": 84
        }
      ]
    },
    {
      "metadata": {
        "id": "rWlFcFCo1pL3",
        "colab_type": "code",
        "colab": {
          "base_uri": "https://localhost:8080/",
          "height": 846
        },
        "outputId": "02c9e79b-6403-4790-b2a4-f86c34e8c2fc"
      },
      "cell_type": "code",
      "source": [
        "model.fit(X_train, y_train, batch_size = 32, epochs = 5, validation_data = (X_test, y_test))"
      ],
      "execution_count": 122,
      "outputs": [
        {
          "output_type": "stream",
          "text": [
            "Train on 4800 samples, validate on 1200 samples\n",
            "Epoch 1/5\n",
            "4480/4800 [===========================>..] - ETA: 0s - loss: 8.0141"
          ],
          "name": "stdout"
        },
        {
          "output_type": "error",
          "ename": "KeyboardInterrupt",
          "evalue": "ignored",
          "traceback": [
            "\u001b[0;31m---------------------------------------------------------------------------\u001b[0m",
            "\u001b[0;31mKeyboardInterrupt\u001b[0m                         Traceback (most recent call last)",
            "\u001b[0;32m<ipython-input-122-4501faba0078>\u001b[0m in \u001b[0;36m<module>\u001b[0;34m()\u001b[0m\n\u001b[0;32m----> 1\u001b[0;31m \u001b[0mmodel\u001b[0m\u001b[0;34m.\u001b[0m\u001b[0mfit\u001b[0m\u001b[0;34m(\u001b[0m\u001b[0mX_train\u001b[0m\u001b[0;34m,\u001b[0m \u001b[0my_train\u001b[0m\u001b[0;34m,\u001b[0m \u001b[0mbatch_size\u001b[0m \u001b[0;34m=\u001b[0m \u001b[0;36m32\u001b[0m\u001b[0;34m,\u001b[0m \u001b[0mepochs\u001b[0m \u001b[0;34m=\u001b[0m \u001b[0;36m5\u001b[0m\u001b[0;34m,\u001b[0m \u001b[0mvalidation_data\u001b[0m \u001b[0;34m=\u001b[0m \u001b[0;34m(\u001b[0m\u001b[0mX_test\u001b[0m\u001b[0;34m,\u001b[0m \u001b[0my_test\u001b[0m\u001b[0;34m)\u001b[0m\u001b[0;34m)\u001b[0m\u001b[0;34m\u001b[0m\u001b[0m\n\u001b[0m",
            "\u001b[0;32m/usr/local/lib/python3.6/dist-packages/keras/models.py\u001b[0m in \u001b[0;36mfit\u001b[0;34m(self, x, y, batch_size, epochs, verbose, callbacks, validation_split, validation_data, shuffle, class_weight, sample_weight, initial_epoch, steps_per_epoch, validation_steps, **kwargs)\u001b[0m\n\u001b[1;32m   1000\u001b[0m                               \u001b[0minitial_epoch\u001b[0m\u001b[0;34m=\u001b[0m\u001b[0minitial_epoch\u001b[0m\u001b[0;34m,\u001b[0m\u001b[0;34m\u001b[0m\u001b[0m\n\u001b[1;32m   1001\u001b[0m                               \u001b[0msteps_per_epoch\u001b[0m\u001b[0;34m=\u001b[0m\u001b[0msteps_per_epoch\u001b[0m\u001b[0;34m,\u001b[0m\u001b[0;34m\u001b[0m\u001b[0m\n\u001b[0;32m-> 1002\u001b[0;31m                               validation_steps=validation_steps)\n\u001b[0m\u001b[1;32m   1003\u001b[0m \u001b[0;34m\u001b[0m\u001b[0m\n\u001b[1;32m   1004\u001b[0m     def evaluate(self, x=None, y=None,\n",
            "\u001b[0;32m/usr/local/lib/python3.6/dist-packages/keras/engine/training.py\u001b[0m in \u001b[0;36mfit\u001b[0;34m(self, x, y, batch_size, epochs, verbose, callbacks, validation_split, validation_data, shuffle, class_weight, sample_weight, initial_epoch, steps_per_epoch, validation_steps, **kwargs)\u001b[0m\n\u001b[1;32m   1703\u001b[0m                               \u001b[0minitial_epoch\u001b[0m\u001b[0;34m=\u001b[0m\u001b[0minitial_epoch\u001b[0m\u001b[0;34m,\u001b[0m\u001b[0;34m\u001b[0m\u001b[0m\n\u001b[1;32m   1704\u001b[0m                               \u001b[0msteps_per_epoch\u001b[0m\u001b[0;34m=\u001b[0m\u001b[0msteps_per_epoch\u001b[0m\u001b[0;34m,\u001b[0m\u001b[0;34m\u001b[0m\u001b[0m\n\u001b[0;32m-> 1705\u001b[0;31m                               validation_steps=validation_steps)\n\u001b[0m\u001b[1;32m   1706\u001b[0m \u001b[0;34m\u001b[0m\u001b[0m\n\u001b[1;32m   1707\u001b[0m     def evaluate(self, x=None, y=None,\n",
            "\u001b[0;32m/usr/local/lib/python3.6/dist-packages/keras/engine/training.py\u001b[0m in \u001b[0;36m_fit_loop\u001b[0;34m(self, f, ins, out_labels, batch_size, epochs, verbose, callbacks, val_f, val_ins, shuffle, callback_metrics, initial_epoch, steps_per_epoch, validation_steps)\u001b[0m\n\u001b[1;32m   1222\u001b[0m                             \u001b[0mins_batch\u001b[0m \u001b[0;34m=\u001b[0m \u001b[0m_slice_arrays\u001b[0m\u001b[0;34m(\u001b[0m\u001b[0mins\u001b[0m\u001b[0;34m[\u001b[0m\u001b[0;34m:\u001b[0m\u001b[0;34m-\u001b[0m\u001b[0;36m1\u001b[0m\u001b[0;34m]\u001b[0m\u001b[0;34m,\u001b[0m \u001b[0mbatch_ids\u001b[0m\u001b[0;34m)\u001b[0m \u001b[0;34m+\u001b[0m \u001b[0;34m[\u001b[0m\u001b[0mins\u001b[0m\u001b[0;34m[\u001b[0m\u001b[0;34m-\u001b[0m\u001b[0;36m1\u001b[0m\u001b[0;34m]\u001b[0m\u001b[0;34m]\u001b[0m\u001b[0;34m\u001b[0m\u001b[0m\n\u001b[1;32m   1223\u001b[0m                         \u001b[0;32melse\u001b[0m\u001b[0;34m:\u001b[0m\u001b[0;34m\u001b[0m\u001b[0m\n\u001b[0;32m-> 1224\u001b[0;31m                             \u001b[0mins_batch\u001b[0m \u001b[0;34m=\u001b[0m \u001b[0m_slice_arrays\u001b[0m\u001b[0;34m(\u001b[0m\u001b[0mins\u001b[0m\u001b[0;34m,\u001b[0m \u001b[0mbatch_ids\u001b[0m\u001b[0;34m)\u001b[0m\u001b[0;34m\u001b[0m\u001b[0m\n\u001b[0m\u001b[1;32m   1225\u001b[0m                     \u001b[0;32mexcept\u001b[0m \u001b[0mTypeError\u001b[0m\u001b[0;34m:\u001b[0m\u001b[0;34m\u001b[0m\u001b[0m\n\u001b[1;32m   1226\u001b[0m                         raise TypeError('TypeError while preparing batch. '\n",
            "\u001b[0;32m/usr/local/lib/python3.6/dist-packages/keras/engine/training.py\u001b[0m in \u001b[0;36m_slice_arrays\u001b[0;34m(arrays, start, stop)\u001b[0m\n\u001b[1;32m    383\u001b[0m             \u001b[0;32mif\u001b[0m \u001b[0mhasattr\u001b[0m\u001b[0;34m(\u001b[0m\u001b[0mstart\u001b[0m\u001b[0;34m,\u001b[0m \u001b[0;34m'shape'\u001b[0m\u001b[0;34m)\u001b[0m\u001b[0;34m:\u001b[0m\u001b[0;34m\u001b[0m\u001b[0m\n\u001b[1;32m    384\u001b[0m                 \u001b[0mstart\u001b[0m \u001b[0;34m=\u001b[0m \u001b[0mstart\u001b[0m\u001b[0;34m.\u001b[0m\u001b[0mtolist\u001b[0m\u001b[0;34m(\u001b[0m\u001b[0;34m)\u001b[0m\u001b[0;34m\u001b[0m\u001b[0m\n\u001b[0;32m--> 385\u001b[0;31m             \u001b[0;32mreturn\u001b[0m \u001b[0;34m[\u001b[0m\u001b[0;32mNone\u001b[0m \u001b[0;32mif\u001b[0m \u001b[0mx\u001b[0m \u001b[0;32mis\u001b[0m \u001b[0;32mNone\u001b[0m \u001b[0;32melse\u001b[0m \u001b[0mx\u001b[0m\u001b[0;34m[\u001b[0m\u001b[0mstart\u001b[0m\u001b[0;34m]\u001b[0m \u001b[0;32mfor\u001b[0m \u001b[0mx\u001b[0m \u001b[0;32min\u001b[0m \u001b[0marrays\u001b[0m\u001b[0;34m]\u001b[0m\u001b[0;34m\u001b[0m\u001b[0m\n\u001b[0m\u001b[1;32m    386\u001b[0m         \u001b[0;32melse\u001b[0m\u001b[0;34m:\u001b[0m\u001b[0;34m\u001b[0m\u001b[0m\n\u001b[1;32m    387\u001b[0m             \u001b[0;32mreturn\u001b[0m \u001b[0;34m[\u001b[0m\u001b[0;32mNone\u001b[0m \u001b[0;32mif\u001b[0m \u001b[0mx\u001b[0m \u001b[0;32mis\u001b[0m \u001b[0;32mNone\u001b[0m \u001b[0;32melse\u001b[0m \u001b[0mx\u001b[0m\u001b[0;34m[\u001b[0m\u001b[0mstart\u001b[0m\u001b[0;34m:\u001b[0m\u001b[0mstop\u001b[0m\u001b[0;34m]\u001b[0m \u001b[0;32mfor\u001b[0m \u001b[0mx\u001b[0m \u001b[0;32min\u001b[0m \u001b[0marrays\u001b[0m\u001b[0;34m]\u001b[0m\u001b[0;34m\u001b[0m\u001b[0m\n",
            "\u001b[0;32m/usr/local/lib/python3.6/dist-packages/keras/engine/training.py\u001b[0m in \u001b[0;36m<listcomp>\u001b[0;34m(.0)\u001b[0m\n\u001b[1;32m    383\u001b[0m             \u001b[0;32mif\u001b[0m \u001b[0mhasattr\u001b[0m\u001b[0;34m(\u001b[0m\u001b[0mstart\u001b[0m\u001b[0;34m,\u001b[0m \u001b[0;34m'shape'\u001b[0m\u001b[0;34m)\u001b[0m\u001b[0;34m:\u001b[0m\u001b[0;34m\u001b[0m\u001b[0m\n\u001b[1;32m    384\u001b[0m                 \u001b[0mstart\u001b[0m \u001b[0;34m=\u001b[0m \u001b[0mstart\u001b[0m\u001b[0;34m.\u001b[0m\u001b[0mtolist\u001b[0m\u001b[0;34m(\u001b[0m\u001b[0;34m)\u001b[0m\u001b[0;34m\u001b[0m\u001b[0m\n\u001b[0;32m--> 385\u001b[0;31m             \u001b[0;32mreturn\u001b[0m \u001b[0;34m[\u001b[0m\u001b[0;32mNone\u001b[0m \u001b[0;32mif\u001b[0m \u001b[0mx\u001b[0m \u001b[0;32mis\u001b[0m \u001b[0;32mNone\u001b[0m \u001b[0;32melse\u001b[0m \u001b[0mx\u001b[0m\u001b[0;34m[\u001b[0m\u001b[0mstart\u001b[0m\u001b[0;34m]\u001b[0m \u001b[0;32mfor\u001b[0m \u001b[0mx\u001b[0m \u001b[0;32min\u001b[0m \u001b[0marrays\u001b[0m\u001b[0;34m]\u001b[0m\u001b[0;34m\u001b[0m\u001b[0m\n\u001b[0m\u001b[1;32m    386\u001b[0m         \u001b[0;32melse\u001b[0m\u001b[0;34m:\u001b[0m\u001b[0;34m\u001b[0m\u001b[0m\n\u001b[1;32m    387\u001b[0m             \u001b[0;32mreturn\u001b[0m \u001b[0;34m[\u001b[0m\u001b[0;32mNone\u001b[0m \u001b[0;32mif\u001b[0m \u001b[0mx\u001b[0m \u001b[0;32mis\u001b[0m \u001b[0;32mNone\u001b[0m \u001b[0;32melse\u001b[0m \u001b[0mx\u001b[0m\u001b[0;34m[\u001b[0m\u001b[0mstart\u001b[0m\u001b[0;34m:\u001b[0m\u001b[0mstop\u001b[0m\u001b[0;34m]\u001b[0m \u001b[0;32mfor\u001b[0m \u001b[0mx\u001b[0m \u001b[0;32min\u001b[0m \u001b[0marrays\u001b[0m\u001b[0;34m]\u001b[0m\u001b[0;34m\u001b[0m\u001b[0m\n",
            "\u001b[0;31mKeyboardInterrupt\u001b[0m: "
          ]
        }
      ]
    },
    {
      "metadata": {
        "id": "RIa9lbbt17Ld",
        "colab_type": "code",
        "colab": {
          "base_uri": "https://localhost:8080/",
          "height": 156
        },
        "outputId": "01645462-3ac3-4c83-a11f-71b5b32fadc0"
      },
      "cell_type": "code",
      "source": [
        "model.fit(X_train, y_train, batch_size = 64, epochs = 3, validation_data = (X_test, y_test))"
      ],
      "execution_count": 164,
      "outputs": [
        {
          "output_type": "stream",
          "text": [
            "Train on 4800 samples, validate on 1200 samples\n",
            "Epoch 1/3\n",
            "4800/4800 [==============================] - 9s 2ms/step - loss: 17.0773 - val_loss: 14.6224\n",
            "Epoch 2/3\n",
            "4800/4800 [==============================] - 9s 2ms/step - loss: 16.5341 - val_loss: 16.1788\n",
            "Epoch 3/3\n",
            "4800/4800 [==============================] - 9s 2ms/step - loss: 14.9138 - val_loss: 13.4813\n"
          ],
          "name": "stdout"
        },
        {
          "output_type": "execute_result",
          "data": {
            "text/plain": [
              "<keras.callbacks.History at 0x7fdd2434c2b0>"
            ]
          },
          "metadata": {
            "tags": []
          },
          "execution_count": 164
        }
      ]
    },
    {
      "metadata": {
        "id": "YtDXTVX03Cfw",
        "colab_type": "code",
        "colab": {
          "base_uri": "https://localhost:8080/",
          "height": 156
        },
        "outputId": "bd1112b3-2891-457a-a280-16bf0a4cbe9e"
      },
      "cell_type": "code",
      "source": [
        "model.fit(X_train, y_train, batch_size = 128, epochs = 3, validation_data = (X_test, y_test))"
      ],
      "execution_count": 165,
      "outputs": [
        {
          "output_type": "stream",
          "text": [
            "Train on 4800 samples, validate on 1200 samples\n",
            "Epoch 1/3\n",
            "4800/4800 [==============================] - 8s 2ms/step - loss: 13.1669 - val_loss: 12.0118\n",
            "Epoch 2/3\n",
            "4800/4800 [==============================] - 8s 2ms/step - loss: 12.4109 - val_loss: 11.7881\n",
            "Epoch 3/3\n",
            "4800/4800 [==============================] - 8s 2ms/step - loss: 12.0397 - val_loss: 11.2060\n"
          ],
          "name": "stdout"
        },
        {
          "output_type": "execute_result",
          "data": {
            "text/plain": [
              "<keras.callbacks.History at 0x7fdd2434c048>"
            ]
          },
          "metadata": {
            "tags": []
          },
          "execution_count": 165
        }
      ]
    },
    {
      "metadata": {
        "id": "HTu2NdOI3snU",
        "colab_type": "code",
        "colab": {
          "base_uri": "https://localhost:8080/",
          "height": 156
        },
        "outputId": "e027f6c5-b402-4fbb-b8b3-03688c47f378"
      },
      "cell_type": "code",
      "source": [
        "model.fit(X_train, y_train, batch_size = 256, epochs = 3, validation_data = (X_test, y_test))"
      ],
      "execution_count": 166,
      "outputs": [
        {
          "output_type": "stream",
          "text": [
            "Train on 4800 samples, validate on 1200 samples\n",
            "Epoch 1/3\n",
            "4800/4800 [==============================] - 7s 2ms/step - loss: 10.5553 - val_loss: 10.9514\n",
            "Epoch 2/3\n",
            "4800/4800 [==============================] - 7s 2ms/step - loss: 9.8221 - val_loss: 12.1895\n",
            "Epoch 3/3\n",
            "4800/4800 [==============================] - 7s 2ms/step - loss: 10.0976 - val_loss: 11.0008\n"
          ],
          "name": "stdout"
        },
        {
          "output_type": "execute_result",
          "data": {
            "text/plain": [
              "<keras.callbacks.History at 0x7fdd89721320>"
            ]
          },
          "metadata": {
            "tags": []
          },
          "execution_count": 166
        }
      ]
    },
    {
      "metadata": {
        "id": "1g1QxnzBNcxR",
        "colab_type": "code",
        "colab": {
          "base_uri": "https://localhost:8080/",
          "height": 156
        },
        "outputId": "3414a499-4cc1-434e-8f6e-b10ea76b4f29"
      },
      "cell_type": "code",
      "source": [
        "model.fit(X_train, y_train, batch_size = 512, epochs = 3, validation_data = (X_test, y_test))"
      ],
      "execution_count": 168,
      "outputs": [
        {
          "output_type": "stream",
          "text": [
            "Train on 4800 samples, validate on 1200 samples\n",
            "Epoch 1/3\n",
            "4800/4800 [==============================] - 7s 2ms/step - loss: 9.3306 - val_loss: 11.5262\n",
            "Epoch 2/3\n",
            "4800/4800 [==============================] - 7s 1ms/step - loss: 9.0933 - val_loss: 12.4029\n",
            "Epoch 3/3\n",
            "4800/4800 [==============================] - 7s 1ms/step - loss: 8.6935 - val_loss: 10.4320\n"
          ],
          "name": "stdout"
        },
        {
          "output_type": "execute_result",
          "data": {
            "text/plain": [
              "<keras.callbacks.History at 0x7fdd243569e8>"
            ]
          },
          "metadata": {
            "tags": []
          },
          "execution_count": 168
        }
      ]
    },
    {
      "metadata": {
        "id": "6nV4d_RtNq1z",
        "colab_type": "code",
        "colab": {
          "base_uri": "https://localhost:8080/",
          "height": 156
        },
        "outputId": "ddbe77c3-850e-4800-f38e-2802cd9b9807"
      },
      "cell_type": "code",
      "source": [
        "model.fit(X_train, y_train, batch_size = 1024, epochs = 3, validation_data = (X_test, y_test))"
      ],
      "execution_count": 169,
      "outputs": [
        {
          "output_type": "stream",
          "text": [
            "Train on 4800 samples, validate on 1200 samples\n",
            "Epoch 1/3\n",
            "4800/4800 [==============================] - 7s 1ms/step - loss: 7.8467 - val_loss: 10.1416\n",
            "Epoch 2/3\n",
            "4800/4800 [==============================] - 7s 1ms/step - loss: 7.8729 - val_loss: 9.9897\n",
            "Epoch 3/3\n",
            "4800/4800 [==============================] - 7s 1ms/step - loss: 7.6029 - val_loss: 10.4670\n"
          ],
          "name": "stdout"
        },
        {
          "output_type": "execute_result",
          "data": {
            "text/plain": [
              "<keras.callbacks.History at 0x7fdd897212e8>"
            ]
          },
          "metadata": {
            "tags": []
          },
          "execution_count": 169
        }
      ]
    },
    {
      "metadata": {
        "id": "9AsXFAQ_2tlH",
        "colab_type": "code",
        "colab": {}
      },
      "cell_type": "code",
      "source": [
        "model.save(path + '/facepoints_model_validated_8.8.hdf5')"
      ],
      "execution_count": 0,
      "outputs": []
    },
    {
      "metadata": {
        "id": "scadJHGbK1uu",
        "colab_type": "code",
        "colab": {}
      },
      "cell_type": "code",
      "source": [
        "model = SimpleCNN(withDropout = False)\n",
        "X, Y = datas.x, datas.y"
      ],
      "execution_count": 0,
      "outputs": []
    },
    {
      "metadata": {
        "id": "B5urSlYmPETQ",
        "colab_type": "code",
        "colab": {
          "base_uri": "https://localhost:8080/",
          "height": 208
        },
        "outputId": "5dc651ce-9495-44ae-c5bd-aa9042ca61e6"
      },
      "cell_type": "code",
      "source": [
        "model.fit(X, Y, batch_size = 32, epochs = 5)"
      ],
      "execution_count": 177,
      "outputs": [
        {
          "output_type": "stream",
          "text": [
            "Epoch 1/5\n",
            "6000/6000 [==============================] - 17s 3ms/step - loss: 114.3692\n",
            "Epoch 2/5\n",
            "6000/6000 [==============================] - 13s 2ms/step - loss: 28.6905\n",
            "Epoch 3/5\n",
            "6000/6000 [==============================] - 13s 2ms/step - loss: 22.1720\n",
            "Epoch 4/5\n",
            "6000/6000 [==============================] - 13s 2ms/step - loss: 19.9597\n",
            "Epoch 5/5\n",
            "6000/6000 [==============================] - 13s 2ms/step - loss: 17.6702\n"
          ],
          "name": "stdout"
        },
        {
          "output_type": "execute_result",
          "data": {
            "text/plain": [
              "<keras.callbacks.History at 0x7fdd239332b0>"
            ]
          },
          "metadata": {
            "tags": []
          },
          "execution_count": 177
        }
      ]
    },
    {
      "metadata": {
        "id": "RvFrWuawPIX3",
        "colab_type": "code",
        "colab": {
          "base_uri": "https://localhost:8080/",
          "height": 139
        },
        "outputId": "143f469d-eac8-40a9-8aa3-e6afd94354f8"
      },
      "cell_type": "code",
      "source": [
        "model.fit(X, Y, batch_size = 64, epochs = 3)"
      ],
      "execution_count": 178,
      "outputs": [
        {
          "output_type": "stream",
          "text": [
            "Epoch 1/3\n",
            "6000/6000 [==============================] - 11s 2ms/step - loss: 15.2058\n",
            "Epoch 2/3\n",
            "6000/6000 [==============================] - 10s 2ms/step - loss: 14.8023\n",
            "Epoch 3/3\n",
            "6000/6000 [==============================] - 10s 2ms/step - loss: 13.8894\n"
          ],
          "name": "stdout"
        },
        {
          "output_type": "execute_result",
          "data": {
            "text/plain": [
              "<keras.callbacks.History at 0x7fdd225f6198>"
            ]
          },
          "metadata": {
            "tags": []
          },
          "execution_count": 178
        }
      ]
    },
    {
      "metadata": {
        "id": "BfRe7FK2PKgs",
        "colab_type": "code",
        "colab": {
          "base_uri": "https://localhost:8080/",
          "height": 139
        },
        "outputId": "71640ed7-cba6-4fcd-e9a5-a4ff0823a680"
      },
      "cell_type": "code",
      "source": [
        "model.fit(X, Y, batch_size = 128, epochs = 3)"
      ],
      "execution_count": 179,
      "outputs": [
        {
          "output_type": "stream",
          "text": [
            "Epoch 1/3\n",
            "6000/6000 [==============================] - 10s 2ms/step - loss: 12.5291\n",
            "Epoch 2/3\n",
            "6000/6000 [==============================] - 9s 2ms/step - loss: 11.7609\n",
            "Epoch 3/3\n",
            "6000/6000 [==============================] - 9s 2ms/step - loss: 11.3836\n"
          ],
          "name": "stdout"
        },
        {
          "output_type": "execute_result",
          "data": {
            "text/plain": [
              "<keras.callbacks.History at 0x7fdd225f6630>"
            ]
          },
          "metadata": {
            "tags": []
          },
          "execution_count": 179
        }
      ]
    },
    {
      "metadata": {
        "id": "WdDnZS7CPMel",
        "colab_type": "code",
        "colab": {
          "base_uri": "https://localhost:8080/",
          "height": 139
        },
        "outputId": "629ff304-3991-4655-8e1b-87838a17e86c"
      },
      "cell_type": "code",
      "source": [
        "model.fit(X, Y, batch_size = 256, epochs = 3)"
      ],
      "execution_count": 180,
      "outputs": [
        {
          "output_type": "stream",
          "text": [
            "Epoch 1/3\n",
            "6000/6000 [==============================] - 8s 1ms/step - loss: 10.8568\n",
            "Epoch 2/3\n",
            "6000/6000 [==============================] - 8s 1ms/step - loss: 10.2374\n",
            "Epoch 3/3\n",
            "6000/6000 [==============================] - 8s 1ms/step - loss: 9.9620\n"
          ],
          "name": "stdout"
        },
        {
          "output_type": "execute_result",
          "data": {
            "text/plain": [
              "<keras.callbacks.History at 0x7fdd225ebcc0>"
            ]
          },
          "metadata": {
            "tags": []
          },
          "execution_count": 180
        }
      ]
    },
    {
      "metadata": {
        "id": "t6trgNhbPSTi",
        "colab_type": "code",
        "colab": {
          "base_uri": "https://localhost:8080/",
          "height": 139
        },
        "outputId": "93a1f127-2cc9-4013-b9d2-e0d63eaf2192"
      },
      "cell_type": "code",
      "source": [
        "model.fit(X, Y, batch_size = 512, epochs = 3)"
      ],
      "execution_count": 181,
      "outputs": [
        {
          "output_type": "stream",
          "text": [
            "Epoch 1/3\n",
            "6000/6000 [==============================] - 10s 2ms/step - loss: 9.6057\n",
            "Epoch 2/3\n",
            "6000/6000 [==============================] - 8s 1ms/step - loss: 9.2012\n",
            "Epoch 3/3\n",
            "6000/6000 [==============================] - 8s 1ms/step - loss: 9.2087\n"
          ],
          "name": "stdout"
        },
        {
          "output_type": "execute_result",
          "data": {
            "text/plain": [
              "<keras.callbacks.History at 0x7fdd225ebc50>"
            ]
          },
          "metadata": {
            "tags": []
          },
          "execution_count": 181
        }
      ]
    },
    {
      "metadata": {
        "id": "eTk3bE-0PY45",
        "colab_type": "code",
        "colab": {
          "base_uri": "https://localhost:8080/",
          "height": 139
        },
        "outputId": "4ace5400-a42c-48f0-8b34-e5ed9d28906a"
      },
      "cell_type": "code",
      "source": [
        "model.fit(X, Y, batch_size = 1024, epochs = 3)"
      ],
      "execution_count": 182,
      "outputs": [
        {
          "output_type": "stream",
          "text": [
            "Epoch 1/3\n",
            "6000/6000 [==============================] - 12s 2ms/step - loss: 9.3721\n",
            "Epoch 2/3\n",
            "6000/6000 [==============================] - 8s 1ms/step - loss: 8.6773\n",
            "Epoch 3/3\n",
            "6000/6000 [==============================] - 8s 1ms/step - loss: 8.5674\n"
          ],
          "name": "stdout"
        },
        {
          "output_type": "execute_result",
          "data": {
            "text/plain": [
              "<keras.callbacks.History at 0x7fdd225ebfd0>"
            ]
          },
          "metadata": {
            "tags": []
          },
          "execution_count": 182
        }
      ]
    },
    {
      "metadata": {
        "id": "fmPk-IALPalY",
        "colab_type": "code",
        "colab": {}
      },
      "cell_type": "code",
      "source": [
        "model.save(path + '/facepoints_model.hdf5')"
      ],
      "execution_count": 0,
      "outputs": []
    },
    {
      "metadata": {
        "id": "Rt0z8zL_Pdnw",
        "colab_type": "code",
        "colab": {}
      },
      "cell_type": "code",
      "source": [
        ""
      ],
      "execution_count": 0,
      "outputs": []
    }
  ]
}